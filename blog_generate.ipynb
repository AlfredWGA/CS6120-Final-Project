{
  "nbformat": 4,
  "nbformat_minor": 0,
  "metadata": {
    "colab": {
      "name": "blog_generate.ipynb",
      "provenance": [],
      "collapsed_sections": [],
      "mount_file_id": "1bEfiVfwJt9iv4__ujLoEOPEp6Tpby793",
      "authorship_tag": "ABX9TyNIt2kaz8JIjyOB1ZTvqaAv",
      "include_colab_link": true
    },
    "kernelspec": {
      "name": "python3",
      "display_name": "Python 3"
    },
    "language_info": {
      "name": "python"
    },
    "accelerator": "GPU",
    "widgets": {
      "application/vnd.jupyter.widget-state+json": {
        "a34b6840fd3148129a471328d962ae60": {
          "model_module": "@jupyter-widgets/controls",
          "model_name": "HBoxModel",
          "state": {
            "_view_name": "HBoxView",
            "_dom_classes": [],
            "_model_name": "HBoxModel",
            "_view_module": "@jupyter-widgets/controls",
            "_model_module_version": "1.5.0",
            "_view_count": null,
            "_view_module_version": "1.5.0",
            "box_style": "",
            "layout": "IPY_MODEL_29e1ff50d3b645d5aa6b20636087a4b8",
            "_model_module": "@jupyter-widgets/controls",
            "children": [
              "IPY_MODEL_01e440d764734ca6a660d2f3164c2e84",
              "IPY_MODEL_9fe386cc9aaa4fd7babb8fef155771d8"
            ]
          }
        },
        "29e1ff50d3b645d5aa6b20636087a4b8": {
          "model_module": "@jupyter-widgets/base",
          "model_name": "LayoutModel",
          "state": {
            "_view_name": "LayoutView",
            "grid_template_rows": null,
            "right": null,
            "justify_content": null,
            "_view_module": "@jupyter-widgets/base",
            "overflow": null,
            "_model_module_version": "1.2.0",
            "_view_count": null,
            "flex_flow": null,
            "width": null,
            "min_width": null,
            "border": null,
            "align_items": null,
            "bottom": null,
            "_model_module": "@jupyter-widgets/base",
            "top": null,
            "grid_column": null,
            "overflow_y": null,
            "overflow_x": null,
            "grid_auto_flow": null,
            "grid_area": null,
            "grid_template_columns": null,
            "flex": null,
            "_model_name": "LayoutModel",
            "justify_items": null,
            "grid_row": null,
            "max_height": null,
            "align_content": null,
            "visibility": null,
            "align_self": null,
            "height": null,
            "min_height": null,
            "padding": null,
            "grid_auto_rows": null,
            "grid_gap": null,
            "max_width": null,
            "order": null,
            "_view_module_version": "1.2.0",
            "grid_template_areas": null,
            "object_position": null,
            "object_fit": null,
            "grid_auto_columns": null,
            "margin": null,
            "display": null,
            "left": null
          }
        },
        "01e440d764734ca6a660d2f3164c2e84": {
          "model_module": "@jupyter-widgets/controls",
          "model_name": "FloatProgressModel",
          "state": {
            "_view_name": "ProgressView",
            "style": "IPY_MODEL_aba192e528544e66a34ead7d655b5130",
            "_dom_classes": [],
            "description": "100%",
            "_model_name": "FloatProgressModel",
            "bar_style": "success",
            "max": 15,
            "_view_module": "@jupyter-widgets/controls",
            "_model_module_version": "1.5.0",
            "value": 15,
            "_view_count": null,
            "_view_module_version": "1.5.0",
            "orientation": "horizontal",
            "min": 0,
            "description_tooltip": null,
            "_model_module": "@jupyter-widgets/controls",
            "layout": "IPY_MODEL_b6dc0065529d42da91ff60b3122d3866"
          }
        },
        "9fe386cc9aaa4fd7babb8fef155771d8": {
          "model_module": "@jupyter-widgets/controls",
          "model_name": "HTMLModel",
          "state": {
            "_view_name": "HTMLView",
            "style": "IPY_MODEL_4600f09184e74ec28a251ad3b4f57d1f",
            "_dom_classes": [],
            "description": "",
            "_model_name": "HTMLModel",
            "placeholder": "​",
            "_view_module": "@jupyter-widgets/controls",
            "_model_module_version": "1.5.0",
            "value": " 15/15 [00:11&lt;00:00,  1.27ba/s]",
            "_view_count": null,
            "_view_module_version": "1.5.0",
            "description_tooltip": null,
            "_model_module": "@jupyter-widgets/controls",
            "layout": "IPY_MODEL_4a22994ec48f4be2afd4362c92f900ee"
          }
        },
        "aba192e528544e66a34ead7d655b5130": {
          "model_module": "@jupyter-widgets/controls",
          "model_name": "ProgressStyleModel",
          "state": {
            "_view_name": "StyleView",
            "_model_name": "ProgressStyleModel",
            "description_width": "initial",
            "_view_module": "@jupyter-widgets/base",
            "_model_module_version": "1.5.0",
            "_view_count": null,
            "_view_module_version": "1.2.0",
            "bar_color": null,
            "_model_module": "@jupyter-widgets/controls"
          }
        },
        "b6dc0065529d42da91ff60b3122d3866": {
          "model_module": "@jupyter-widgets/base",
          "model_name": "LayoutModel",
          "state": {
            "_view_name": "LayoutView",
            "grid_template_rows": null,
            "right": null,
            "justify_content": null,
            "_view_module": "@jupyter-widgets/base",
            "overflow": null,
            "_model_module_version": "1.2.0",
            "_view_count": null,
            "flex_flow": null,
            "width": null,
            "min_width": null,
            "border": null,
            "align_items": null,
            "bottom": null,
            "_model_module": "@jupyter-widgets/base",
            "top": null,
            "grid_column": null,
            "overflow_y": null,
            "overflow_x": null,
            "grid_auto_flow": null,
            "grid_area": null,
            "grid_template_columns": null,
            "flex": null,
            "_model_name": "LayoutModel",
            "justify_items": null,
            "grid_row": null,
            "max_height": null,
            "align_content": null,
            "visibility": null,
            "align_self": null,
            "height": null,
            "min_height": null,
            "padding": null,
            "grid_auto_rows": null,
            "grid_gap": null,
            "max_width": null,
            "order": null,
            "_view_module_version": "1.2.0",
            "grid_template_areas": null,
            "object_position": null,
            "object_fit": null,
            "grid_auto_columns": null,
            "margin": null,
            "display": null,
            "left": null
          }
        },
        "4600f09184e74ec28a251ad3b4f57d1f": {
          "model_module": "@jupyter-widgets/controls",
          "model_name": "DescriptionStyleModel",
          "state": {
            "_view_name": "StyleView",
            "_model_name": "DescriptionStyleModel",
            "description_width": "",
            "_view_module": "@jupyter-widgets/base",
            "_model_module_version": "1.5.0",
            "_view_count": null,
            "_view_module_version": "1.2.0",
            "_model_module": "@jupyter-widgets/controls"
          }
        },
        "4a22994ec48f4be2afd4362c92f900ee": {
          "model_module": "@jupyter-widgets/base",
          "model_name": "LayoutModel",
          "state": {
            "_view_name": "LayoutView",
            "grid_template_rows": null,
            "right": null,
            "justify_content": null,
            "_view_module": "@jupyter-widgets/base",
            "overflow": null,
            "_model_module_version": "1.2.0",
            "_view_count": null,
            "flex_flow": null,
            "width": null,
            "min_width": null,
            "border": null,
            "align_items": null,
            "bottom": null,
            "_model_module": "@jupyter-widgets/base",
            "top": null,
            "grid_column": null,
            "overflow_y": null,
            "overflow_x": null,
            "grid_auto_flow": null,
            "grid_area": null,
            "grid_template_columns": null,
            "flex": null,
            "_model_name": "LayoutModel",
            "justify_items": null,
            "grid_row": null,
            "max_height": null,
            "align_content": null,
            "visibility": null,
            "align_self": null,
            "height": null,
            "min_height": null,
            "padding": null,
            "grid_auto_rows": null,
            "grid_gap": null,
            "max_width": null,
            "order": null,
            "_view_module_version": "1.2.0",
            "grid_template_areas": null,
            "object_position": null,
            "object_fit": null,
            "grid_auto_columns": null,
            "margin": null,
            "display": null,
            "left": null
          }
        },
        "dbc8c326b54d45888f1fb81e15e9f7af": {
          "model_module": "@jupyter-widgets/controls",
          "model_name": "HBoxModel",
          "state": {
            "_view_name": "HBoxView",
            "_dom_classes": [],
            "_model_name": "HBoxModel",
            "_view_module": "@jupyter-widgets/controls",
            "_model_module_version": "1.5.0",
            "_view_count": null,
            "_view_module_version": "1.5.0",
            "box_style": "",
            "layout": "IPY_MODEL_b8eef79c616142d9abd891ccb4bc44e8",
            "_model_module": "@jupyter-widgets/controls",
            "children": [
              "IPY_MODEL_6be4d3f0158a4fe78baa4239e1db3787",
              "IPY_MODEL_652f79e8e8454207a774a20d7e034357"
            ]
          }
        },
        "b8eef79c616142d9abd891ccb4bc44e8": {
          "model_module": "@jupyter-widgets/base",
          "model_name": "LayoutModel",
          "state": {
            "_view_name": "LayoutView",
            "grid_template_rows": null,
            "right": null,
            "justify_content": null,
            "_view_module": "@jupyter-widgets/base",
            "overflow": null,
            "_model_module_version": "1.2.0",
            "_view_count": null,
            "flex_flow": null,
            "width": null,
            "min_width": null,
            "border": null,
            "align_items": null,
            "bottom": null,
            "_model_module": "@jupyter-widgets/base",
            "top": null,
            "grid_column": null,
            "overflow_y": null,
            "overflow_x": null,
            "grid_auto_flow": null,
            "grid_area": null,
            "grid_template_columns": null,
            "flex": null,
            "_model_name": "LayoutModel",
            "justify_items": null,
            "grid_row": null,
            "max_height": null,
            "align_content": null,
            "visibility": null,
            "align_self": null,
            "height": null,
            "min_height": null,
            "padding": null,
            "grid_auto_rows": null,
            "grid_gap": null,
            "max_width": null,
            "order": null,
            "_view_module_version": "1.2.0",
            "grid_template_areas": null,
            "object_position": null,
            "object_fit": null,
            "grid_auto_columns": null,
            "margin": null,
            "display": null,
            "left": null
          }
        },
        "6be4d3f0158a4fe78baa4239e1db3787": {
          "model_module": "@jupyter-widgets/controls",
          "model_name": "FloatProgressModel",
          "state": {
            "_view_name": "ProgressView",
            "style": "IPY_MODEL_c753b2d968db49d1ac2fa1bb83510a20",
            "_dom_classes": [],
            "description": "100%",
            "_model_name": "FloatProgressModel",
            "bar_style": "success",
            "max": 2,
            "_view_module": "@jupyter-widgets/controls",
            "_model_module_version": "1.5.0",
            "value": 2,
            "_view_count": null,
            "_view_module_version": "1.5.0",
            "orientation": "horizontal",
            "min": 0,
            "description_tooltip": null,
            "_model_module": "@jupyter-widgets/controls",
            "layout": "IPY_MODEL_87162dc4e4814ed9a6569a7f49febe6f"
          }
        },
        "652f79e8e8454207a774a20d7e034357": {
          "model_module": "@jupyter-widgets/controls",
          "model_name": "HTMLModel",
          "state": {
            "_view_name": "HTMLView",
            "style": "IPY_MODEL_036d112a6bb14968bdba7519726b7132",
            "_dom_classes": [],
            "description": "",
            "_model_name": "HTMLModel",
            "placeholder": "​",
            "_view_module": "@jupyter-widgets/controls",
            "_model_module_version": "1.5.0",
            "value": " 2/2 [00:02&lt;00:00,  1.09s/ba]",
            "_view_count": null,
            "_view_module_version": "1.5.0",
            "description_tooltip": null,
            "_model_module": "@jupyter-widgets/controls",
            "layout": "IPY_MODEL_adb88bff509b424fb71867ebd673bdcc"
          }
        },
        "c753b2d968db49d1ac2fa1bb83510a20": {
          "model_module": "@jupyter-widgets/controls",
          "model_name": "ProgressStyleModel",
          "state": {
            "_view_name": "StyleView",
            "_model_name": "ProgressStyleModel",
            "description_width": "initial",
            "_view_module": "@jupyter-widgets/base",
            "_model_module_version": "1.5.0",
            "_view_count": null,
            "_view_module_version": "1.2.0",
            "bar_color": null,
            "_model_module": "@jupyter-widgets/controls"
          }
        },
        "87162dc4e4814ed9a6569a7f49febe6f": {
          "model_module": "@jupyter-widgets/base",
          "model_name": "LayoutModel",
          "state": {
            "_view_name": "LayoutView",
            "grid_template_rows": null,
            "right": null,
            "justify_content": null,
            "_view_module": "@jupyter-widgets/base",
            "overflow": null,
            "_model_module_version": "1.2.0",
            "_view_count": null,
            "flex_flow": null,
            "width": null,
            "min_width": null,
            "border": null,
            "align_items": null,
            "bottom": null,
            "_model_module": "@jupyter-widgets/base",
            "top": null,
            "grid_column": null,
            "overflow_y": null,
            "overflow_x": null,
            "grid_auto_flow": null,
            "grid_area": null,
            "grid_template_columns": null,
            "flex": null,
            "_model_name": "LayoutModel",
            "justify_items": null,
            "grid_row": null,
            "max_height": null,
            "align_content": null,
            "visibility": null,
            "align_self": null,
            "height": null,
            "min_height": null,
            "padding": null,
            "grid_auto_rows": null,
            "grid_gap": null,
            "max_width": null,
            "order": null,
            "_view_module_version": "1.2.0",
            "grid_template_areas": null,
            "object_position": null,
            "object_fit": null,
            "grid_auto_columns": null,
            "margin": null,
            "display": null,
            "left": null
          }
        },
        "036d112a6bb14968bdba7519726b7132": {
          "model_module": "@jupyter-widgets/controls",
          "model_name": "DescriptionStyleModel",
          "state": {
            "_view_name": "StyleView",
            "_model_name": "DescriptionStyleModel",
            "description_width": "",
            "_view_module": "@jupyter-widgets/base",
            "_model_module_version": "1.5.0",
            "_view_count": null,
            "_view_module_version": "1.2.0",
            "_model_module": "@jupyter-widgets/controls"
          }
        },
        "adb88bff509b424fb71867ebd673bdcc": {
          "model_module": "@jupyter-widgets/base",
          "model_name": "LayoutModel",
          "state": {
            "_view_name": "LayoutView",
            "grid_template_rows": null,
            "right": null,
            "justify_content": null,
            "_view_module": "@jupyter-widgets/base",
            "overflow": null,
            "_model_module_version": "1.2.0",
            "_view_count": null,
            "flex_flow": null,
            "width": null,
            "min_width": null,
            "border": null,
            "align_items": null,
            "bottom": null,
            "_model_module": "@jupyter-widgets/base",
            "top": null,
            "grid_column": null,
            "overflow_y": null,
            "overflow_x": null,
            "grid_auto_flow": null,
            "grid_area": null,
            "grid_template_columns": null,
            "flex": null,
            "_model_name": "LayoutModel",
            "justify_items": null,
            "grid_row": null,
            "max_height": null,
            "align_content": null,
            "visibility": null,
            "align_self": null,
            "height": null,
            "min_height": null,
            "padding": null,
            "grid_auto_rows": null,
            "grid_gap": null,
            "max_width": null,
            "order": null,
            "_view_module_version": "1.2.0",
            "grid_template_areas": null,
            "object_position": null,
            "object_fit": null,
            "grid_auto_columns": null,
            "margin": null,
            "display": null,
            "left": null
          }
        },
        "04fa29b6454f48e19bb910ffabdcc753": {
          "model_module": "@jupyter-widgets/controls",
          "model_name": "HBoxModel",
          "state": {
            "_view_name": "HBoxView",
            "_dom_classes": [],
            "_model_name": "HBoxModel",
            "_view_module": "@jupyter-widgets/controls",
            "_model_module_version": "1.5.0",
            "_view_count": null,
            "_view_module_version": "1.5.0",
            "box_style": "",
            "layout": "IPY_MODEL_4e6378c4687449359237b9a9e357208e",
            "_model_module": "@jupyter-widgets/controls",
            "children": [
              "IPY_MODEL_30402a02cefe4e7a91c551f09c31ffca",
              "IPY_MODEL_bfd28d569a214006ad082562f6af79dc"
            ]
          }
        },
        "4e6378c4687449359237b9a9e357208e": {
          "model_module": "@jupyter-widgets/base",
          "model_name": "LayoutModel",
          "state": {
            "_view_name": "LayoutView",
            "grid_template_rows": null,
            "right": null,
            "justify_content": null,
            "_view_module": "@jupyter-widgets/base",
            "overflow": null,
            "_model_module_version": "1.2.0",
            "_view_count": null,
            "flex_flow": null,
            "width": null,
            "min_width": null,
            "border": null,
            "align_items": null,
            "bottom": null,
            "_model_module": "@jupyter-widgets/base",
            "top": null,
            "grid_column": null,
            "overflow_y": null,
            "overflow_x": null,
            "grid_auto_flow": null,
            "grid_area": null,
            "grid_template_columns": null,
            "flex": null,
            "_model_name": "LayoutModel",
            "justify_items": null,
            "grid_row": null,
            "max_height": null,
            "align_content": null,
            "visibility": null,
            "align_self": null,
            "height": null,
            "min_height": null,
            "padding": null,
            "grid_auto_rows": null,
            "grid_gap": null,
            "max_width": null,
            "order": null,
            "_view_module_version": "1.2.0",
            "grid_template_areas": null,
            "object_position": null,
            "object_fit": null,
            "grid_auto_columns": null,
            "margin": null,
            "display": null,
            "left": null
          }
        },
        "30402a02cefe4e7a91c551f09c31ffca": {
          "model_module": "@jupyter-widgets/controls",
          "model_name": "FloatProgressModel",
          "state": {
            "_view_name": "ProgressView",
            "style": "IPY_MODEL_911f0002f5154a338435c264ceeb8338",
            "_dom_classes": [],
            "description": "100%",
            "_model_name": "FloatProgressModel",
            "bar_style": "success",
            "max": 15,
            "_view_module": "@jupyter-widgets/controls",
            "_model_module_version": "1.5.0",
            "value": 15,
            "_view_count": null,
            "_view_module_version": "1.5.0",
            "orientation": "horizontal",
            "min": 0,
            "description_tooltip": null,
            "_model_module": "@jupyter-widgets/controls",
            "layout": "IPY_MODEL_74687b9898cb4fbcad6706d33b97b629"
          }
        },
        "bfd28d569a214006ad082562f6af79dc": {
          "model_module": "@jupyter-widgets/controls",
          "model_name": "HTMLModel",
          "state": {
            "_view_name": "HTMLView",
            "style": "IPY_MODEL_598815197e3344789ccd9362963cef11",
            "_dom_classes": [],
            "description": "",
            "_model_name": "HTMLModel",
            "placeholder": "​",
            "_view_module": "@jupyter-widgets/controls",
            "_model_module_version": "1.5.0",
            "value": " 15/15 [00:07&lt;00:00,  1.92ba/s]",
            "_view_count": null,
            "_view_module_version": "1.5.0",
            "description_tooltip": null,
            "_model_module": "@jupyter-widgets/controls",
            "layout": "IPY_MODEL_33994aa571be429ab0aaf397b4414763"
          }
        },
        "911f0002f5154a338435c264ceeb8338": {
          "model_module": "@jupyter-widgets/controls",
          "model_name": "ProgressStyleModel",
          "state": {
            "_view_name": "StyleView",
            "_model_name": "ProgressStyleModel",
            "description_width": "initial",
            "_view_module": "@jupyter-widgets/base",
            "_model_module_version": "1.5.0",
            "_view_count": null,
            "_view_module_version": "1.2.0",
            "bar_color": null,
            "_model_module": "@jupyter-widgets/controls"
          }
        },
        "74687b9898cb4fbcad6706d33b97b629": {
          "model_module": "@jupyter-widgets/base",
          "model_name": "LayoutModel",
          "state": {
            "_view_name": "LayoutView",
            "grid_template_rows": null,
            "right": null,
            "justify_content": null,
            "_view_module": "@jupyter-widgets/base",
            "overflow": null,
            "_model_module_version": "1.2.0",
            "_view_count": null,
            "flex_flow": null,
            "width": null,
            "min_width": null,
            "border": null,
            "align_items": null,
            "bottom": null,
            "_model_module": "@jupyter-widgets/base",
            "top": null,
            "grid_column": null,
            "overflow_y": null,
            "overflow_x": null,
            "grid_auto_flow": null,
            "grid_area": null,
            "grid_template_columns": null,
            "flex": null,
            "_model_name": "LayoutModel",
            "justify_items": null,
            "grid_row": null,
            "max_height": null,
            "align_content": null,
            "visibility": null,
            "align_self": null,
            "height": null,
            "min_height": null,
            "padding": null,
            "grid_auto_rows": null,
            "grid_gap": null,
            "max_width": null,
            "order": null,
            "_view_module_version": "1.2.0",
            "grid_template_areas": null,
            "object_position": null,
            "object_fit": null,
            "grid_auto_columns": null,
            "margin": null,
            "display": null,
            "left": null
          }
        },
        "598815197e3344789ccd9362963cef11": {
          "model_module": "@jupyter-widgets/controls",
          "model_name": "DescriptionStyleModel",
          "state": {
            "_view_name": "StyleView",
            "_model_name": "DescriptionStyleModel",
            "description_width": "",
            "_view_module": "@jupyter-widgets/base",
            "_model_module_version": "1.5.0",
            "_view_count": null,
            "_view_module_version": "1.2.0",
            "_model_module": "@jupyter-widgets/controls"
          }
        },
        "33994aa571be429ab0aaf397b4414763": {
          "model_module": "@jupyter-widgets/base",
          "model_name": "LayoutModel",
          "state": {
            "_view_name": "LayoutView",
            "grid_template_rows": null,
            "right": null,
            "justify_content": null,
            "_view_module": "@jupyter-widgets/base",
            "overflow": null,
            "_model_module_version": "1.2.0",
            "_view_count": null,
            "flex_flow": null,
            "width": null,
            "min_width": null,
            "border": null,
            "align_items": null,
            "bottom": null,
            "_model_module": "@jupyter-widgets/base",
            "top": null,
            "grid_column": null,
            "overflow_y": null,
            "overflow_x": null,
            "grid_auto_flow": null,
            "grid_area": null,
            "grid_template_columns": null,
            "flex": null,
            "_model_name": "LayoutModel",
            "justify_items": null,
            "grid_row": null,
            "max_height": null,
            "align_content": null,
            "visibility": null,
            "align_self": null,
            "height": null,
            "min_height": null,
            "padding": null,
            "grid_auto_rows": null,
            "grid_gap": null,
            "max_width": null,
            "order": null,
            "_view_module_version": "1.2.0",
            "grid_template_areas": null,
            "object_position": null,
            "object_fit": null,
            "grid_auto_columns": null,
            "margin": null,
            "display": null,
            "left": null
          }
        },
        "462125d78b7b42aea2532be0f3ff4b74": {
          "model_module": "@jupyter-widgets/controls",
          "model_name": "HBoxModel",
          "state": {
            "_view_name": "HBoxView",
            "_dom_classes": [],
            "_model_name": "HBoxModel",
            "_view_module": "@jupyter-widgets/controls",
            "_model_module_version": "1.5.0",
            "_view_count": null,
            "_view_module_version": "1.5.0",
            "box_style": "",
            "layout": "IPY_MODEL_7987a477baa34fb3979735f5d325a7d0",
            "_model_module": "@jupyter-widgets/controls",
            "children": [
              "IPY_MODEL_ea2a2f58b9e849f883d68c8415ee38b9",
              "IPY_MODEL_192573cc34b04145b64ccaff7a431dfc"
            ]
          }
        },
        "7987a477baa34fb3979735f5d325a7d0": {
          "model_module": "@jupyter-widgets/base",
          "model_name": "LayoutModel",
          "state": {
            "_view_name": "LayoutView",
            "grid_template_rows": null,
            "right": null,
            "justify_content": null,
            "_view_module": "@jupyter-widgets/base",
            "overflow": null,
            "_model_module_version": "1.2.0",
            "_view_count": null,
            "flex_flow": null,
            "width": null,
            "min_width": null,
            "border": null,
            "align_items": null,
            "bottom": null,
            "_model_module": "@jupyter-widgets/base",
            "top": null,
            "grid_column": null,
            "overflow_y": null,
            "overflow_x": null,
            "grid_auto_flow": null,
            "grid_area": null,
            "grid_template_columns": null,
            "flex": null,
            "_model_name": "LayoutModel",
            "justify_items": null,
            "grid_row": null,
            "max_height": null,
            "align_content": null,
            "visibility": null,
            "align_self": null,
            "height": null,
            "min_height": null,
            "padding": null,
            "grid_auto_rows": null,
            "grid_gap": null,
            "max_width": null,
            "order": null,
            "_view_module_version": "1.2.0",
            "grid_template_areas": null,
            "object_position": null,
            "object_fit": null,
            "grid_auto_columns": null,
            "margin": null,
            "display": null,
            "left": null
          }
        },
        "ea2a2f58b9e849f883d68c8415ee38b9": {
          "model_module": "@jupyter-widgets/controls",
          "model_name": "FloatProgressModel",
          "state": {
            "_view_name": "ProgressView",
            "style": "IPY_MODEL_4be1a2a1396e46d88333107b20d81254",
            "_dom_classes": [],
            "description": "100%",
            "_model_name": "FloatProgressModel",
            "bar_style": "success",
            "max": 2,
            "_view_module": "@jupyter-widgets/controls",
            "_model_module_version": "1.5.0",
            "value": 2,
            "_view_count": null,
            "_view_module_version": "1.5.0",
            "orientation": "horizontal",
            "min": 0,
            "description_tooltip": null,
            "_model_module": "@jupyter-widgets/controls",
            "layout": "IPY_MODEL_3d711f69ded94c238669201ffe943ec8"
          }
        },
        "192573cc34b04145b64ccaff7a431dfc": {
          "model_module": "@jupyter-widgets/controls",
          "model_name": "HTMLModel",
          "state": {
            "_view_name": "HTMLView",
            "style": "IPY_MODEL_987a68744fa641ad896c74ebc8b43cd4",
            "_dom_classes": [],
            "description": "",
            "_model_name": "HTMLModel",
            "placeholder": "​",
            "_view_module": "@jupyter-widgets/controls",
            "_model_module_version": "1.5.0",
            "value": " 2/2 [00:00&lt;00:00,  2.01ba/s]",
            "_view_count": null,
            "_view_module_version": "1.5.0",
            "description_tooltip": null,
            "_model_module": "@jupyter-widgets/controls",
            "layout": "IPY_MODEL_6ec8b380951347d9a8e761e615b2cb6a"
          }
        },
        "4be1a2a1396e46d88333107b20d81254": {
          "model_module": "@jupyter-widgets/controls",
          "model_name": "ProgressStyleModel",
          "state": {
            "_view_name": "StyleView",
            "_model_name": "ProgressStyleModel",
            "description_width": "initial",
            "_view_module": "@jupyter-widgets/base",
            "_model_module_version": "1.5.0",
            "_view_count": null,
            "_view_module_version": "1.2.0",
            "bar_color": null,
            "_model_module": "@jupyter-widgets/controls"
          }
        },
        "3d711f69ded94c238669201ffe943ec8": {
          "model_module": "@jupyter-widgets/base",
          "model_name": "LayoutModel",
          "state": {
            "_view_name": "LayoutView",
            "grid_template_rows": null,
            "right": null,
            "justify_content": null,
            "_view_module": "@jupyter-widgets/base",
            "overflow": null,
            "_model_module_version": "1.2.0",
            "_view_count": null,
            "flex_flow": null,
            "width": null,
            "min_width": null,
            "border": null,
            "align_items": null,
            "bottom": null,
            "_model_module": "@jupyter-widgets/base",
            "top": null,
            "grid_column": null,
            "overflow_y": null,
            "overflow_x": null,
            "grid_auto_flow": null,
            "grid_area": null,
            "grid_template_columns": null,
            "flex": null,
            "_model_name": "LayoutModel",
            "justify_items": null,
            "grid_row": null,
            "max_height": null,
            "align_content": null,
            "visibility": null,
            "align_self": null,
            "height": null,
            "min_height": null,
            "padding": null,
            "grid_auto_rows": null,
            "grid_gap": null,
            "max_width": null,
            "order": null,
            "_view_module_version": "1.2.0",
            "grid_template_areas": null,
            "object_position": null,
            "object_fit": null,
            "grid_auto_columns": null,
            "margin": null,
            "display": null,
            "left": null
          }
        },
        "987a68744fa641ad896c74ebc8b43cd4": {
          "model_module": "@jupyter-widgets/controls",
          "model_name": "DescriptionStyleModel",
          "state": {
            "_view_name": "StyleView",
            "_model_name": "DescriptionStyleModel",
            "description_width": "",
            "_view_module": "@jupyter-widgets/base",
            "_model_module_version": "1.5.0",
            "_view_count": null,
            "_view_module_version": "1.2.0",
            "_model_module": "@jupyter-widgets/controls"
          }
        },
        "6ec8b380951347d9a8e761e615b2cb6a": {
          "model_module": "@jupyter-widgets/base",
          "model_name": "LayoutModel",
          "state": {
            "_view_name": "LayoutView",
            "grid_template_rows": null,
            "right": null,
            "justify_content": null,
            "_view_module": "@jupyter-widgets/base",
            "overflow": null,
            "_model_module_version": "1.2.0",
            "_view_count": null,
            "flex_flow": null,
            "width": null,
            "min_width": null,
            "border": null,
            "align_items": null,
            "bottom": null,
            "_model_module": "@jupyter-widgets/base",
            "top": null,
            "grid_column": null,
            "overflow_y": null,
            "overflow_x": null,
            "grid_auto_flow": null,
            "grid_area": null,
            "grid_template_columns": null,
            "flex": null,
            "_model_name": "LayoutModel",
            "justify_items": null,
            "grid_row": null,
            "max_height": null,
            "align_content": null,
            "visibility": null,
            "align_self": null,
            "height": null,
            "min_height": null,
            "padding": null,
            "grid_auto_rows": null,
            "grid_gap": null,
            "max_width": null,
            "order": null,
            "_view_module_version": "1.2.0",
            "grid_template_areas": null,
            "object_position": null,
            "object_fit": null,
            "grid_auto_columns": null,
            "margin": null,
            "display": null,
            "left": null
          }
        },
        "153cc3ac91de4d3a9a67b45887b6957e": {
          "model_module": "@jupyter-widgets/controls",
          "model_name": "HBoxModel",
          "state": {
            "_view_name": "HBoxView",
            "_dom_classes": [],
            "_model_name": "HBoxModel",
            "_view_module": "@jupyter-widgets/controls",
            "_model_module_version": "1.5.0",
            "_view_count": null,
            "_view_module_version": "1.5.0",
            "box_style": "",
            "layout": "IPY_MODEL_1dd4a2cc39b34dbc88693da26a562c98",
            "_model_module": "@jupyter-widgets/controls",
            "children": [
              "IPY_MODEL_b990d98bbe8a4957af6cf3512dc569db",
              "IPY_MODEL_50282f8ccaa141edb183e00825c1c16b"
            ]
          }
        },
        "1dd4a2cc39b34dbc88693da26a562c98": {
          "model_module": "@jupyter-widgets/base",
          "model_name": "LayoutModel",
          "state": {
            "_view_name": "LayoutView",
            "grid_template_rows": null,
            "right": null,
            "justify_content": null,
            "_view_module": "@jupyter-widgets/base",
            "overflow": null,
            "_model_module_version": "1.2.0",
            "_view_count": null,
            "flex_flow": null,
            "width": null,
            "min_width": null,
            "border": null,
            "align_items": null,
            "bottom": null,
            "_model_module": "@jupyter-widgets/base",
            "top": null,
            "grid_column": null,
            "overflow_y": null,
            "overflow_x": null,
            "grid_auto_flow": null,
            "grid_area": null,
            "grid_template_columns": null,
            "flex": null,
            "_model_name": "LayoutModel",
            "justify_items": null,
            "grid_row": null,
            "max_height": null,
            "align_content": null,
            "visibility": null,
            "align_self": null,
            "height": null,
            "min_height": null,
            "padding": null,
            "grid_auto_rows": null,
            "grid_gap": null,
            "max_width": null,
            "order": null,
            "_view_module_version": "1.2.0",
            "grid_template_areas": null,
            "object_position": null,
            "object_fit": null,
            "grid_auto_columns": null,
            "margin": null,
            "display": null,
            "left": null
          }
        },
        "b990d98bbe8a4957af6cf3512dc569db": {
          "model_module": "@jupyter-widgets/controls",
          "model_name": "FloatProgressModel",
          "state": {
            "_view_name": "ProgressView",
            "style": "IPY_MODEL_e15e32da99ce4cc6940814555534707b",
            "_dom_classes": [],
            "description": "Downloading: 100%",
            "_model_name": "FloatProgressModel",
            "bar_style": "success",
            "max": 352833716,
            "_view_module": "@jupyter-widgets/controls",
            "_model_module_version": "1.5.0",
            "value": 352833716,
            "_view_count": null,
            "_view_module_version": "1.5.0",
            "orientation": "horizontal",
            "min": 0,
            "description_tooltip": null,
            "_model_module": "@jupyter-widgets/controls",
            "layout": "IPY_MODEL_9dc9392c80be48b4b094c7a137f24678"
          }
        },
        "50282f8ccaa141edb183e00825c1c16b": {
          "model_module": "@jupyter-widgets/controls",
          "model_name": "HTMLModel",
          "state": {
            "_view_name": "HTMLView",
            "style": "IPY_MODEL_ef37b4774f8b42deaeb30b29f91ef4ab",
            "_dom_classes": [],
            "description": "",
            "_model_name": "HTMLModel",
            "placeholder": "​",
            "_view_module": "@jupyter-widgets/controls",
            "_model_module_version": "1.5.0",
            "value": " 353M/353M [00:06&lt;00:00, 53.8MB/s]",
            "_view_count": null,
            "_view_module_version": "1.5.0",
            "description_tooltip": null,
            "_model_module": "@jupyter-widgets/controls",
            "layout": "IPY_MODEL_45e6c9c8caa54e3594203267b1af69ae"
          }
        },
        "e15e32da99ce4cc6940814555534707b": {
          "model_module": "@jupyter-widgets/controls",
          "model_name": "ProgressStyleModel",
          "state": {
            "_view_name": "StyleView",
            "_model_name": "ProgressStyleModel",
            "description_width": "initial",
            "_view_module": "@jupyter-widgets/base",
            "_model_module_version": "1.5.0",
            "_view_count": null,
            "_view_module_version": "1.2.0",
            "bar_color": null,
            "_model_module": "@jupyter-widgets/controls"
          }
        },
        "9dc9392c80be48b4b094c7a137f24678": {
          "model_module": "@jupyter-widgets/base",
          "model_name": "LayoutModel",
          "state": {
            "_view_name": "LayoutView",
            "grid_template_rows": null,
            "right": null,
            "justify_content": null,
            "_view_module": "@jupyter-widgets/base",
            "overflow": null,
            "_model_module_version": "1.2.0",
            "_view_count": null,
            "flex_flow": null,
            "width": null,
            "min_width": null,
            "border": null,
            "align_items": null,
            "bottom": null,
            "_model_module": "@jupyter-widgets/base",
            "top": null,
            "grid_column": null,
            "overflow_y": null,
            "overflow_x": null,
            "grid_auto_flow": null,
            "grid_area": null,
            "grid_template_columns": null,
            "flex": null,
            "_model_name": "LayoutModel",
            "justify_items": null,
            "grid_row": null,
            "max_height": null,
            "align_content": null,
            "visibility": null,
            "align_self": null,
            "height": null,
            "min_height": null,
            "padding": null,
            "grid_auto_rows": null,
            "grid_gap": null,
            "max_width": null,
            "order": null,
            "_view_module_version": "1.2.0",
            "grid_template_areas": null,
            "object_position": null,
            "object_fit": null,
            "grid_auto_columns": null,
            "margin": null,
            "display": null,
            "left": null
          }
        },
        "ef37b4774f8b42deaeb30b29f91ef4ab": {
          "model_module": "@jupyter-widgets/controls",
          "model_name": "DescriptionStyleModel",
          "state": {
            "_view_name": "StyleView",
            "_model_name": "DescriptionStyleModel",
            "description_width": "",
            "_view_module": "@jupyter-widgets/base",
            "_model_module_version": "1.5.0",
            "_view_count": null,
            "_view_module_version": "1.2.0",
            "_model_module": "@jupyter-widgets/controls"
          }
        },
        "45e6c9c8caa54e3594203267b1af69ae": {
          "model_module": "@jupyter-widgets/base",
          "model_name": "LayoutModel",
          "state": {
            "_view_name": "LayoutView",
            "grid_template_rows": null,
            "right": null,
            "justify_content": null,
            "_view_module": "@jupyter-widgets/base",
            "overflow": null,
            "_model_module_version": "1.2.0",
            "_view_count": null,
            "flex_flow": null,
            "width": null,
            "min_width": null,
            "border": null,
            "align_items": null,
            "bottom": null,
            "_model_module": "@jupyter-widgets/base",
            "top": null,
            "grid_column": null,
            "overflow_y": null,
            "overflow_x": null,
            "grid_auto_flow": null,
            "grid_area": null,
            "grid_template_columns": null,
            "flex": null,
            "_model_name": "LayoutModel",
            "justify_items": null,
            "grid_row": null,
            "max_height": null,
            "align_content": null,
            "visibility": null,
            "align_self": null,
            "height": null,
            "min_height": null,
            "padding": null,
            "grid_auto_rows": null,
            "grid_gap": null,
            "max_width": null,
            "order": null,
            "_view_module_version": "1.2.0",
            "grid_template_areas": null,
            "object_position": null,
            "object_fit": null,
            "grid_auto_columns": null,
            "margin": null,
            "display": null,
            "left": null
          }
        },
        "ec73404f178543cfb8900a9bf2da8c61": {
          "model_module": "@jupyter-widgets/controls",
          "model_name": "HBoxModel",
          "state": {
            "_view_name": "HBoxView",
            "_dom_classes": [],
            "_model_name": "HBoxModel",
            "_view_module": "@jupyter-widgets/controls",
            "_model_module_version": "1.5.0",
            "_view_count": null,
            "_view_module_version": "1.5.0",
            "box_style": "",
            "layout": "IPY_MODEL_1ba45379eab348fda3ad8f5e442a50ef",
            "_model_module": "@jupyter-widgets/controls",
            "children": [
              "IPY_MODEL_9e49f301b517439e90bbfc54371c05a3",
              "IPY_MODEL_1d496e4332214fccb631a5a409a49a1d"
            ]
          }
        },
        "1ba45379eab348fda3ad8f5e442a50ef": {
          "model_module": "@jupyter-widgets/base",
          "model_name": "LayoutModel",
          "state": {
            "_view_name": "LayoutView",
            "grid_template_rows": null,
            "right": null,
            "justify_content": null,
            "_view_module": "@jupyter-widgets/base",
            "overflow": null,
            "_model_module_version": "1.2.0",
            "_view_count": null,
            "flex_flow": null,
            "width": null,
            "min_width": null,
            "border": null,
            "align_items": null,
            "bottom": null,
            "_model_module": "@jupyter-widgets/base",
            "top": null,
            "grid_column": null,
            "overflow_y": null,
            "overflow_x": null,
            "grid_auto_flow": null,
            "grid_area": null,
            "grid_template_columns": null,
            "flex": null,
            "_model_name": "LayoutModel",
            "justify_items": null,
            "grid_row": null,
            "max_height": null,
            "align_content": null,
            "visibility": null,
            "align_self": null,
            "height": null,
            "min_height": null,
            "padding": null,
            "grid_auto_rows": null,
            "grid_gap": null,
            "max_width": null,
            "order": null,
            "_view_module_version": "1.2.0",
            "grid_template_areas": null,
            "object_position": null,
            "object_fit": null,
            "grid_auto_columns": null,
            "margin": null,
            "display": null,
            "left": null
          }
        },
        "9e49f301b517439e90bbfc54371c05a3": {
          "model_module": "@jupyter-widgets/controls",
          "model_name": "FloatProgressModel",
          "state": {
            "_view_name": "ProgressView",
            "style": "IPY_MODEL_6f0ff277a66f4ae799051b0d4212df31",
            "_dom_classes": [],
            "description": "100%",
            "_model_name": "FloatProgressModel",
            "bar_style": "success",
            "max": 2000,
            "_view_module": "@jupyter-widgets/controls",
            "_model_module_version": "1.5.0",
            "value": 2000,
            "_view_count": null,
            "_view_module_version": "1.5.0",
            "orientation": "horizontal",
            "min": 0,
            "description_tooltip": null,
            "_model_module": "@jupyter-widgets/controls",
            "layout": "IPY_MODEL_c52d006e4aa94c3fa04330b4b33f841c"
          }
        },
        "1d496e4332214fccb631a5a409a49a1d": {
          "model_module": "@jupyter-widgets/controls",
          "model_name": "HTMLModel",
          "state": {
            "_view_name": "HTMLView",
            "style": "IPY_MODEL_1d6cf4a9b0324b86b084c09b79f4d856",
            "_dom_classes": [],
            "description": "",
            "_model_name": "HTMLModel",
            "placeholder": "​",
            "_view_module": "@jupyter-widgets/controls",
            "_model_module_version": "1.5.0",
            "value": " 2000/2000 [47:46&lt;00:00,  1.43s/it]",
            "_view_count": null,
            "_view_module_version": "1.5.0",
            "description_tooltip": null,
            "_model_module": "@jupyter-widgets/controls",
            "layout": "IPY_MODEL_bfa84d90ad19449bab5fb99395659ecd"
          }
        },
        "6f0ff277a66f4ae799051b0d4212df31": {
          "model_module": "@jupyter-widgets/controls",
          "model_name": "ProgressStyleModel",
          "state": {
            "_view_name": "StyleView",
            "_model_name": "ProgressStyleModel",
            "description_width": "initial",
            "_view_module": "@jupyter-widgets/base",
            "_model_module_version": "1.5.0",
            "_view_count": null,
            "_view_module_version": "1.2.0",
            "bar_color": null,
            "_model_module": "@jupyter-widgets/controls"
          }
        },
        "c52d006e4aa94c3fa04330b4b33f841c": {
          "model_module": "@jupyter-widgets/base",
          "model_name": "LayoutModel",
          "state": {
            "_view_name": "LayoutView",
            "grid_template_rows": null,
            "right": null,
            "justify_content": null,
            "_view_module": "@jupyter-widgets/base",
            "overflow": null,
            "_model_module_version": "1.2.0",
            "_view_count": null,
            "flex_flow": null,
            "width": null,
            "min_width": null,
            "border": null,
            "align_items": null,
            "bottom": null,
            "_model_module": "@jupyter-widgets/base",
            "top": null,
            "grid_column": null,
            "overflow_y": null,
            "overflow_x": null,
            "grid_auto_flow": null,
            "grid_area": null,
            "grid_template_columns": null,
            "flex": null,
            "_model_name": "LayoutModel",
            "justify_items": null,
            "grid_row": null,
            "max_height": null,
            "align_content": null,
            "visibility": null,
            "align_self": null,
            "height": null,
            "min_height": null,
            "padding": null,
            "grid_auto_rows": null,
            "grid_gap": null,
            "max_width": null,
            "order": null,
            "_view_module_version": "1.2.0",
            "grid_template_areas": null,
            "object_position": null,
            "object_fit": null,
            "grid_auto_columns": null,
            "margin": null,
            "display": null,
            "left": null
          }
        },
        "1d6cf4a9b0324b86b084c09b79f4d856": {
          "model_module": "@jupyter-widgets/controls",
          "model_name": "DescriptionStyleModel",
          "state": {
            "_view_name": "StyleView",
            "_model_name": "DescriptionStyleModel",
            "description_width": "",
            "_view_module": "@jupyter-widgets/base",
            "_model_module_version": "1.5.0",
            "_view_count": null,
            "_view_module_version": "1.2.0",
            "_model_module": "@jupyter-widgets/controls"
          }
        },
        "bfa84d90ad19449bab5fb99395659ecd": {
          "model_module": "@jupyter-widgets/base",
          "model_name": "LayoutModel",
          "state": {
            "_view_name": "LayoutView",
            "grid_template_rows": null,
            "right": null,
            "justify_content": null,
            "_view_module": "@jupyter-widgets/base",
            "overflow": null,
            "_model_module_version": "1.2.0",
            "_view_count": null,
            "flex_flow": null,
            "width": null,
            "min_width": null,
            "border": null,
            "align_items": null,
            "bottom": null,
            "_model_module": "@jupyter-widgets/base",
            "top": null,
            "grid_column": null,
            "overflow_y": null,
            "overflow_x": null,
            "grid_auto_flow": null,
            "grid_area": null,
            "grid_template_columns": null,
            "flex": null,
            "_model_name": "LayoutModel",
            "justify_items": null,
            "grid_row": null,
            "max_height": null,
            "align_content": null,
            "visibility": null,
            "align_self": null,
            "height": null,
            "min_height": null,
            "padding": null,
            "grid_auto_rows": null,
            "grid_gap": null,
            "max_width": null,
            "order": null,
            "_view_module_version": "1.2.0",
            "grid_template_areas": null,
            "object_position": null,
            "object_fit": null,
            "grid_auto_columns": null,
            "margin": null,
            "display": null,
            "left": null
          }
        },
        "f157ba79a5784cb38b046b717fb17de5": {
          "model_module": "@jupyter-widgets/controls",
          "model_name": "HBoxModel",
          "state": {
            "_view_name": "HBoxView",
            "_dom_classes": [],
            "_model_name": "HBoxModel",
            "_view_module": "@jupyter-widgets/controls",
            "_model_module_version": "1.5.0",
            "_view_count": null,
            "_view_module_version": "1.5.0",
            "box_style": "",
            "layout": "IPY_MODEL_1ba77ba66a2b432e881b0f6508b38121",
            "_model_module": "@jupyter-widgets/controls",
            "children": [
              "IPY_MODEL_943a3bf137f44790ae8462a612f83d58",
              "IPY_MODEL_af7547c2a44a4539abe2c327fcc0ccfd"
            ]
          }
        },
        "1ba77ba66a2b432e881b0f6508b38121": {
          "model_module": "@jupyter-widgets/base",
          "model_name": "LayoutModel",
          "state": {
            "_view_name": "LayoutView",
            "grid_template_rows": null,
            "right": null,
            "justify_content": null,
            "_view_module": "@jupyter-widgets/base",
            "overflow": null,
            "_model_module_version": "1.2.0",
            "_view_count": null,
            "flex_flow": null,
            "width": null,
            "min_width": null,
            "border": null,
            "align_items": null,
            "bottom": null,
            "_model_module": "@jupyter-widgets/base",
            "top": null,
            "grid_column": null,
            "overflow_y": null,
            "overflow_x": null,
            "grid_auto_flow": null,
            "grid_area": null,
            "grid_template_columns": null,
            "flex": null,
            "_model_name": "LayoutModel",
            "justify_items": null,
            "grid_row": null,
            "max_height": null,
            "align_content": null,
            "visibility": null,
            "align_self": null,
            "height": null,
            "min_height": null,
            "padding": null,
            "grid_auto_rows": null,
            "grid_gap": null,
            "max_width": null,
            "order": null,
            "_view_module_version": "1.2.0",
            "grid_template_areas": null,
            "object_position": null,
            "object_fit": null,
            "grid_auto_columns": null,
            "margin": null,
            "display": null,
            "left": null
          }
        },
        "943a3bf137f44790ae8462a612f83d58": {
          "model_module": "@jupyter-widgets/controls",
          "model_name": "FloatProgressModel",
          "state": {
            "_view_name": "ProgressView",
            "style": "IPY_MODEL_9ed26e6e42914d77a671cabc8ccf36c3",
            "_dom_classes": [],
            "description": "100%",
            "_model_name": "FloatProgressModel",
            "bar_style": "success",
            "max": 4000,
            "_view_module": "@jupyter-widgets/controls",
            "_model_module_version": "1.5.0",
            "value": 4000,
            "_view_count": null,
            "_view_module_version": "1.5.0",
            "orientation": "horizontal",
            "min": 0,
            "description_tooltip": null,
            "_model_module": "@jupyter-widgets/controls",
            "layout": "IPY_MODEL_7ba946ea4793410c8b4879dad7a14581"
          }
        },
        "af7547c2a44a4539abe2c327fcc0ccfd": {
          "model_module": "@jupyter-widgets/controls",
          "model_name": "HTMLModel",
          "state": {
            "_view_name": "HTMLView",
            "style": "IPY_MODEL_9b31d5856d6e45c48bcfcd493de06b97",
            "_dom_classes": [],
            "description": "",
            "_model_name": "HTMLModel",
            "placeholder": "​",
            "_view_module": "@jupyter-widgets/controls",
            "_model_module_version": "1.5.0",
            "value": " 4000/4000 [1:23:50&lt;00:00,  1.26s/it]",
            "_view_count": null,
            "_view_module_version": "1.5.0",
            "description_tooltip": null,
            "_model_module": "@jupyter-widgets/controls",
            "layout": "IPY_MODEL_a0fb9c8205ab46b2b52c35d7024af1a6"
          }
        },
        "9ed26e6e42914d77a671cabc8ccf36c3": {
          "model_module": "@jupyter-widgets/controls",
          "model_name": "ProgressStyleModel",
          "state": {
            "_view_name": "StyleView",
            "_model_name": "ProgressStyleModel",
            "description_width": "initial",
            "_view_module": "@jupyter-widgets/base",
            "_model_module_version": "1.5.0",
            "_view_count": null,
            "_view_module_version": "1.2.0",
            "bar_color": null,
            "_model_module": "@jupyter-widgets/controls"
          }
        },
        "7ba946ea4793410c8b4879dad7a14581": {
          "model_module": "@jupyter-widgets/base",
          "model_name": "LayoutModel",
          "state": {
            "_view_name": "LayoutView",
            "grid_template_rows": null,
            "right": null,
            "justify_content": null,
            "_view_module": "@jupyter-widgets/base",
            "overflow": null,
            "_model_module_version": "1.2.0",
            "_view_count": null,
            "flex_flow": null,
            "width": null,
            "min_width": null,
            "border": null,
            "align_items": null,
            "bottom": null,
            "_model_module": "@jupyter-widgets/base",
            "top": null,
            "grid_column": null,
            "overflow_y": null,
            "overflow_x": null,
            "grid_auto_flow": null,
            "grid_area": null,
            "grid_template_columns": null,
            "flex": null,
            "_model_name": "LayoutModel",
            "justify_items": null,
            "grid_row": null,
            "max_height": null,
            "align_content": null,
            "visibility": null,
            "align_self": null,
            "height": null,
            "min_height": null,
            "padding": null,
            "grid_auto_rows": null,
            "grid_gap": null,
            "max_width": null,
            "order": null,
            "_view_module_version": "1.2.0",
            "grid_template_areas": null,
            "object_position": null,
            "object_fit": null,
            "grid_auto_columns": null,
            "margin": null,
            "display": null,
            "left": null
          }
        },
        "9b31d5856d6e45c48bcfcd493de06b97": {
          "model_module": "@jupyter-widgets/controls",
          "model_name": "DescriptionStyleModel",
          "state": {
            "_view_name": "StyleView",
            "_model_name": "DescriptionStyleModel",
            "description_width": "",
            "_view_module": "@jupyter-widgets/base",
            "_model_module_version": "1.5.0",
            "_view_count": null,
            "_view_module_version": "1.2.0",
            "_model_module": "@jupyter-widgets/controls"
          }
        },
        "a0fb9c8205ab46b2b52c35d7024af1a6": {
          "model_module": "@jupyter-widgets/base",
          "model_name": "LayoutModel",
          "state": {
            "_view_name": "LayoutView",
            "grid_template_rows": null,
            "right": null,
            "justify_content": null,
            "_view_module": "@jupyter-widgets/base",
            "overflow": null,
            "_model_module_version": "1.2.0",
            "_view_count": null,
            "flex_flow": null,
            "width": null,
            "min_width": null,
            "border": null,
            "align_items": null,
            "bottom": null,
            "_model_module": "@jupyter-widgets/base",
            "top": null,
            "grid_column": null,
            "overflow_y": null,
            "overflow_x": null,
            "grid_auto_flow": null,
            "grid_area": null,
            "grid_template_columns": null,
            "flex": null,
            "_model_name": "LayoutModel",
            "justify_items": null,
            "grid_row": null,
            "max_height": null,
            "align_content": null,
            "visibility": null,
            "align_self": null,
            "height": null,
            "min_height": null,
            "padding": null,
            "grid_auto_rows": null,
            "grid_gap": null,
            "max_width": null,
            "order": null,
            "_view_module_version": "1.2.0",
            "grid_template_areas": null,
            "object_position": null,
            "object_fit": null,
            "grid_auto_columns": null,
            "margin": null,
            "display": null,
            "left": null
          }
        }
      }
    }
  },
  "cells": [
    {
      "cell_type": "markdown",
      "metadata": {
        "id": "view-in-github",
        "colab_type": "text"
      },
      "source": [
        "<a href=\"https://colab.research.google.com/github/AlfredWGA/CS6120-Final-Project/blob/main/blog_generate.ipynb\" target=\"_parent\"><img src=\"https://colab.research.google.com/assets/colab-badge.svg\" alt=\"Open In Colab\"/></a>"
      ]
    },
    {
      "cell_type": "code",
      "metadata": {
        "colab": {
          "base_uri": "https://localhost:8080/"
        },
        "id": "j4payguStjVs",
        "outputId": "c41faf1e-9336-4b7f-d664-f2572c87cac1"
      },
      "source": [
        "!pip install transformers sentencepiece datasets"
      ],
      "execution_count": null,
      "outputs": [
        {
          "output_type": "stream",
          "text": [
            "Collecting transformers\n",
            "\u001b[?25l  Downloading https://files.pythonhosted.org/packages/d8/b2/57495b5309f09fa501866e225c84532d1fd89536ea62406b2181933fb418/transformers-4.5.1-py3-none-any.whl (2.1MB)\n",
            "\u001b[K     |████████████████████████████████| 2.1MB 7.9MB/s \n",
            "\u001b[?25hCollecting sentencepiece\n",
            "\u001b[?25l  Downloading https://files.pythonhosted.org/packages/f5/99/e0808cb947ba10f575839c43e8fafc9cc44e4a7a2c8f79c60db48220a577/sentencepiece-0.1.95-cp37-cp37m-manylinux2014_x86_64.whl (1.2MB)\n",
            "\u001b[K     |████████████████████████████████| 1.2MB 32.4MB/s \n",
            "\u001b[?25hCollecting datasets\n",
            "\u001b[?25l  Downloading https://files.pythonhosted.org/packages/df/4f/8ef6e4df6e92fc02da620ccfac249112619e5c21273a836958160d6e96fb/datasets-1.6.1-py3-none-any.whl (220kB)\n",
            "\u001b[K     |████████████████████████████████| 225kB 50.9MB/s \n",
            "\u001b[?25hRequirement already satisfied: importlib-metadata; python_version < \"3.8\" in /usr/local/lib/python3.7/dist-packages (from transformers) (3.10.1)\n",
            "Requirement already satisfied: packaging in /usr/local/lib/python3.7/dist-packages (from transformers) (20.9)\n",
            "Collecting sacremoses\n",
            "\u001b[?25l  Downloading https://files.pythonhosted.org/packages/75/ee/67241dc87f266093c533a2d4d3d69438e57d7a90abb216fa076e7d475d4a/sacremoses-0.0.45-py3-none-any.whl (895kB)\n",
            "\u001b[K     |████████████████████████████████| 901kB 44.6MB/s \n",
            "\u001b[?25hRequirement already satisfied: requests in /usr/local/lib/python3.7/dist-packages (from transformers) (2.23.0)\n",
            "Requirement already satisfied: tqdm>=4.27 in /usr/local/lib/python3.7/dist-packages (from transformers) (4.41.1)\n",
            "Collecting tokenizers<0.11,>=0.10.1\n",
            "\u001b[?25l  Downloading https://files.pythonhosted.org/packages/ae/04/5b870f26a858552025a62f1649c20d29d2672c02ff3c3fb4c688ca46467a/tokenizers-0.10.2-cp37-cp37m-manylinux2010_x86_64.whl (3.3MB)\n",
            "\u001b[K     |████████████████████████████████| 3.3MB 52.7MB/s \n",
            "\u001b[?25hRequirement already satisfied: filelock in /usr/local/lib/python3.7/dist-packages (from transformers) (3.0.12)\n",
            "Requirement already satisfied: numpy>=1.17 in /usr/local/lib/python3.7/dist-packages (from transformers) (1.19.5)\n",
            "Requirement already satisfied: regex!=2019.12.17 in /usr/local/lib/python3.7/dist-packages (from transformers) (2019.12.20)\n",
            "Collecting huggingface-hub<0.1.0\n",
            "  Downloading https://files.pythonhosted.org/packages/a1/88/7b1e45720ecf59c6c6737ff332f41c955963090a18e72acbcbeac6b25e86/huggingface_hub-0.0.8-py3-none-any.whl\n",
            "Collecting xxhash\n",
            "\u001b[?25l  Downloading https://files.pythonhosted.org/packages/7d/4f/0a862cad26aa2ed7a7cd87178cbbfa824fc1383e472d63596a0d018374e7/xxhash-2.0.2-cp37-cp37m-manylinux2010_x86_64.whl (243kB)\n",
            "\u001b[K     |████████████████████████████████| 245kB 56.4MB/s \n",
            "\u001b[?25hCollecting fsspec\n",
            "\u001b[?25l  Downloading https://files.pythonhosted.org/packages/e9/91/2ef649137816850fa4f4c97c6f2eabb1a79bf0aa2c8ed198e387e373455e/fsspec-2021.4.0-py3-none-any.whl (108kB)\n",
            "\u001b[K     |████████████████████████████████| 112kB 60.7MB/s \n",
            "\u001b[?25hRequirement already satisfied: dill in /usr/local/lib/python3.7/dist-packages (from datasets) (0.3.3)\n",
            "Requirement already satisfied: pyarrow>=1.0.0 in /usr/local/lib/python3.7/dist-packages (from datasets) (3.0.0)\n",
            "Requirement already satisfied: pandas in /usr/local/lib/python3.7/dist-packages (from datasets) (1.1.5)\n",
            "Requirement already satisfied: multiprocess in /usr/local/lib/python3.7/dist-packages (from datasets) (0.70.11.1)\n",
            "Requirement already satisfied: typing-extensions>=3.6.4; python_version < \"3.8\" in /usr/local/lib/python3.7/dist-packages (from importlib-metadata; python_version < \"3.8\"->transformers) (3.7.4.3)\n",
            "Requirement already satisfied: zipp>=0.5 in /usr/local/lib/python3.7/dist-packages (from importlib-metadata; python_version < \"3.8\"->transformers) (3.4.1)\n",
            "Requirement already satisfied: pyparsing>=2.0.2 in /usr/local/lib/python3.7/dist-packages (from packaging->transformers) (2.4.7)\n",
            "Requirement already satisfied: six in /usr/local/lib/python3.7/dist-packages (from sacremoses->transformers) (1.15.0)\n",
            "Requirement already satisfied: joblib in /usr/local/lib/python3.7/dist-packages (from sacremoses->transformers) (1.0.1)\n",
            "Requirement already satisfied: click in /usr/local/lib/python3.7/dist-packages (from sacremoses->transformers) (7.1.2)\n",
            "Requirement already satisfied: urllib3!=1.25.0,!=1.25.1,<1.26,>=1.21.1 in /usr/local/lib/python3.7/dist-packages (from requests->transformers) (1.24.3)\n",
            "Requirement already satisfied: certifi>=2017.4.17 in /usr/local/lib/python3.7/dist-packages (from requests->transformers) (2020.12.5)\n",
            "Requirement already satisfied: chardet<4,>=3.0.2 in /usr/local/lib/python3.7/dist-packages (from requests->transformers) (3.0.4)\n",
            "Requirement already satisfied: idna<3,>=2.5 in /usr/local/lib/python3.7/dist-packages (from requests->transformers) (2.10)\n",
            "Requirement already satisfied: pytz>=2017.2 in /usr/local/lib/python3.7/dist-packages (from pandas->datasets) (2018.9)\n",
            "Requirement already satisfied: python-dateutil>=2.7.3 in /usr/local/lib/python3.7/dist-packages (from pandas->datasets) (2.8.1)\n",
            "Installing collected packages: sacremoses, tokenizers, transformers, sentencepiece, huggingface-hub, xxhash, fsspec, datasets\n",
            "Successfully installed datasets-1.6.1 fsspec-2021.4.0 huggingface-hub-0.0.8 sacremoses-0.0.45 sentencepiece-0.1.95 tokenizers-0.10.2 transformers-4.5.1 xxhash-2.0.2\n"
          ],
          "name": "stdout"
        }
      ]
    },
    {
      "cell_type": "code",
      "metadata": {
        "id": "BsXQzgKrB3yC"
      },
      "source": [
        "import torch"
      ],
      "execution_count": null,
      "outputs": []
    },
    {
      "cell_type": "code",
      "metadata": {
        "colab": {
          "base_uri": "https://localhost:8080/"
        },
        "id": "q2Avw9HCB50v",
        "outputId": "d8eecbac-b9c4-45a5-9d3d-1da309d22a8e"
      },
      "source": [
        "torch.cuda.is_available()"
      ],
      "execution_count": null,
      "outputs": [
        {
          "output_type": "execute_result",
          "data": {
            "text/plain": [
              "True"
            ]
          },
          "metadata": {
            "tags": []
          },
          "execution_count": 3
        }
      ]
    },
    {
      "cell_type": "code",
      "metadata": {
        "id": "SnuwAj0meDZD"
      },
      "source": [
        "import pandas as pd\n",
        "import numpy as np"
      ],
      "execution_count": null,
      "outputs": []
    },
    {
      "cell_type": "code",
      "metadata": {
        "id": "YkAF5laLefdT"
      },
      "source": [
        "df = pd.read_csv('drive/MyDrive/Kaggle/blogtext.csv')"
      ],
      "execution_count": null,
      "outputs": []
    },
    {
      "cell_type": "code",
      "metadata": {
        "colab": {
          "base_uri": "https://localhost:8080/"
        },
        "id": "93t6kvM1elm-",
        "outputId": "51c89567-1f29-4ca2-d3ca-1136323f6cd4"
      },
      "source": [
        "df"
      ],
      "execution_count": null,
      "outputs": [
        {
          "output_type": "execute_result",
          "data": {
            "text/html": [
              "<div>\n",
              "<style scoped>\n",
              "    .dataframe tbody tr th:only-of-type {\n",
              "        vertical-align: middle;\n",
              "    }\n",
              "\n",
              "    .dataframe tbody tr th {\n",
              "        vertical-align: top;\n",
              "    }\n",
              "\n",
              "    .dataframe thead th {\n",
              "        text-align: right;\n",
              "    }\n",
              "</style>\n",
              "<table border=\"1\" class=\"dataframe\">\n",
              "  <thead>\n",
              "    <tr style=\"text-align: right;\">\n",
              "      <th></th>\n",
              "      <th>id</th>\n",
              "      <th>gender</th>\n",
              "      <th>age</th>\n",
              "      <th>topic</th>\n",
              "      <th>sign</th>\n",
              "      <th>date</th>\n",
              "      <th>text</th>\n",
              "    </tr>\n",
              "  </thead>\n",
              "  <tbody>\n",
              "    <tr>\n",
              "      <th>0</th>\n",
              "      <td>2059027</td>\n",
              "      <td>male</td>\n",
              "      <td>15</td>\n",
              "      <td>Student</td>\n",
              "      <td>Leo</td>\n",
              "      <td>14,May,2004</td>\n",
              "      <td>Info has been found (+/- 100 pages,...</td>\n",
              "    </tr>\n",
              "    <tr>\n",
              "      <th>1</th>\n",
              "      <td>2059027</td>\n",
              "      <td>male</td>\n",
              "      <td>15</td>\n",
              "      <td>Student</td>\n",
              "      <td>Leo</td>\n",
              "      <td>13,May,2004</td>\n",
              "      <td>These are the team members:   Drewe...</td>\n",
              "    </tr>\n",
              "    <tr>\n",
              "      <th>2</th>\n",
              "      <td>2059027</td>\n",
              "      <td>male</td>\n",
              "      <td>15</td>\n",
              "      <td>Student</td>\n",
              "      <td>Leo</td>\n",
              "      <td>12,May,2004</td>\n",
              "      <td>In het kader van kernfusie op aarde...</td>\n",
              "    </tr>\n",
              "    <tr>\n",
              "      <th>3</th>\n",
              "      <td>2059027</td>\n",
              "      <td>male</td>\n",
              "      <td>15</td>\n",
              "      <td>Student</td>\n",
              "      <td>Leo</td>\n",
              "      <td>12,May,2004</td>\n",
              "      <td>testing!!!  testing!!!</td>\n",
              "    </tr>\n",
              "    <tr>\n",
              "      <th>4</th>\n",
              "      <td>3581210</td>\n",
              "      <td>male</td>\n",
              "      <td>33</td>\n",
              "      <td>InvestmentBanking</td>\n",
              "      <td>Aquarius</td>\n",
              "      <td>11,June,2004</td>\n",
              "      <td>Thanks to Yahoo!'s Toolbar I can ...</td>\n",
              "    </tr>\n",
              "    <tr>\n",
              "      <th>...</th>\n",
              "      <td>...</td>\n",
              "      <td>...</td>\n",
              "      <td>...</td>\n",
              "      <td>...</td>\n",
              "      <td>...</td>\n",
              "      <td>...</td>\n",
              "      <td>...</td>\n",
              "    </tr>\n",
              "    <tr>\n",
              "      <th>681279</th>\n",
              "      <td>1713845</td>\n",
              "      <td>male</td>\n",
              "      <td>23</td>\n",
              "      <td>Student</td>\n",
              "      <td>Taurus</td>\n",
              "      <td>01,July,2004</td>\n",
              "      <td>Dear Susan,  I could write some really ...</td>\n",
              "    </tr>\n",
              "    <tr>\n",
              "      <th>681280</th>\n",
              "      <td>1713845</td>\n",
              "      <td>male</td>\n",
              "      <td>23</td>\n",
              "      <td>Student</td>\n",
              "      <td>Taurus</td>\n",
              "      <td>01,July,2004</td>\n",
              "      <td>Dear Susan,  'I have the second yeast i...</td>\n",
              "    </tr>\n",
              "    <tr>\n",
              "      <th>681281</th>\n",
              "      <td>1713845</td>\n",
              "      <td>male</td>\n",
              "      <td>23</td>\n",
              "      <td>Student</td>\n",
              "      <td>Taurus</td>\n",
              "      <td>01,July,2004</td>\n",
              "      <td>Dear Susan,  Your 'boyfriend' is fuckin...</td>\n",
              "    </tr>\n",
              "    <tr>\n",
              "      <th>681282</th>\n",
              "      <td>1713845</td>\n",
              "      <td>male</td>\n",
              "      <td>23</td>\n",
              "      <td>Student</td>\n",
              "      <td>Taurus</td>\n",
              "      <td>01,July,2004</td>\n",
              "      <td>Dear Susan:    Just to clarify, I am as...</td>\n",
              "    </tr>\n",
              "    <tr>\n",
              "      <th>681283</th>\n",
              "      <td>1713845</td>\n",
              "      <td>male</td>\n",
              "      <td>23</td>\n",
              "      <td>Student</td>\n",
              "      <td>Taurus</td>\n",
              "      <td>01,July,2004</td>\n",
              "      <td>Hey everybody...and Susan,  You might a...</td>\n",
              "    </tr>\n",
              "  </tbody>\n",
              "</table>\n",
              "<p>681284 rows × 7 columns</p>\n",
              "</div>"
            ],
            "text/plain": [
              "             id  ...                                               text\n",
              "0       2059027  ...             Info has been found (+/- 100 pages,...\n",
              "1       2059027  ...             These are the team members:   Drewe...\n",
              "2       2059027  ...             In het kader van kernfusie op aarde...\n",
              "3       2059027  ...                   testing!!!  testing!!!          \n",
              "4       3581210  ...               Thanks to Yahoo!'s Toolbar I can ...\n",
              "...         ...  ...                                                ...\n",
              "681279  1713845  ...         Dear Susan,  I could write some really ...\n",
              "681280  1713845  ...         Dear Susan,  'I have the second yeast i...\n",
              "681281  1713845  ...         Dear Susan,  Your 'boyfriend' is fuckin...\n",
              "681282  1713845  ...         Dear Susan:    Just to clarify, I am as...\n",
              "681283  1713845  ...         Hey everybody...and Susan,  You might a...\n",
              "\n",
              "[681284 rows x 7 columns]"
            ]
          },
          "metadata": {
            "tags": []
          },
          "execution_count": 6
        }
      ]
    },
    {
      "cell_type": "code",
      "metadata": {
        "colab": {
          "base_uri": "https://localhost:8080/"
        },
        "id": "3Ev7n-kMgCzZ",
        "outputId": "b315f43d-7c8c-4bfe-dfdd-efdca105fe43"
      },
      "source": [
        "df['topic'].value_counts()"
      ],
      "execution_count": null,
      "outputs": [
        {
          "output_type": "execute_result",
          "data": {
            "text/plain": [
              "indUnk                     251015\n",
              "Student                    153903\n",
              "Technology                  42055\n",
              "Arts                        32449\n",
              "Education                   29633\n",
              "Communications-Media        20140\n",
              "Internet                    16006\n",
              "Non-Profit                  14700\n",
              "Engineering                 11653\n",
              "Law                          9040\n",
              "Publishing                   7753\n",
              "Science                      7269\n",
              "Government                   6907\n",
              "Consulting                   5862\n",
              "Religion                     5235\n",
              "Fashion                      4851\n",
              "Marketing                    4769\n",
              "Advertising                  4676\n",
              "BusinessServices             4500\n",
              "Banking                      4049\n",
              "Chemicals                    3928\n",
              "Telecommunications           3891\n",
              "Accounting                   3832\n",
              "Military                     3128\n",
              "Museums-Libraries            3096\n",
              "Sports-Recreation            3038\n",
              "HumanResources               3010\n",
              "RealEstate                   2870\n",
              "Transportation               2326\n",
              "Manufacturing                2272\n",
              "Biotech                      2234\n",
              "Tourism                      1942\n",
              "LawEnforcement-Security      1878\n",
              "Architecture                 1638\n",
              "InvestmentBanking            1292\n",
              "Automotive                   1244\n",
              "Agriculture                  1235\n",
              "Construction                 1093\n",
              "Environment                   592\n",
              "Maritime                      280\n",
              "Name: topic, dtype: int64"
            ]
          },
          "metadata": {
            "tags": []
          },
          "execution_count": 7
        }
      ]
    },
    {
      "cell_type": "code",
      "metadata": {
        "colab": {
          "base_uri": "https://localhost:8080/"
        },
        "id": "qvmdQmns7U_8",
        "outputId": "d86bbbf3-b989-4964-af42-4434330a0441"
      },
      "source": [
        "df['sign'].value_counts()"
      ],
      "execution_count": null,
      "outputs": [
        {
          "output_type": "execute_result",
          "data": {
            "text/plain": [
              "Cancer         65048\n",
              "Aries          64979\n",
              "Taurus         62561\n",
              "Libra          62363\n",
              "Virgo          60399\n",
              "Scorpio        57161\n",
              "Pisces         54053\n",
              "Leo            53811\n",
              "Gemini         51985\n",
              "Sagittarius    50036\n",
              "Aquarius       49687\n",
              "Capricorn      49201\n",
              "Name: sign, dtype: int64"
            ]
          },
          "metadata": {
            "tags": []
          },
          "execution_count": 8
        }
      ]
    },
    {
      "cell_type": "code",
      "metadata": {
        "colab": {
          "base_uri": "https://localhost:8080/"
        },
        "id": "e907J7iWr2AW",
        "outputId": "b716eb00-c410-4e69-fca0-343bd1565bce"
      },
      "source": [
        "df['gender'].value_counts()"
      ],
      "execution_count": null,
      "outputs": [
        {
          "output_type": "execute_result",
          "data": {
            "text/plain": [
              "male      345193\n",
              "female    336091\n",
              "Name: gender, dtype: int64"
            ]
          },
          "metadata": {
            "tags": []
          },
          "execution_count": 9
        }
      ]
    },
    {
      "cell_type": "code",
      "metadata": {
        "id": "SN8sjioKCMUq"
      },
      "source": [
        "df['text'] = df['text'].apply(lambda x: x.strip())"
      ],
      "execution_count": null,
      "outputs": []
    },
    {
      "cell_type": "code",
      "metadata": {
        "id": "wUuyhzWb-jih"
      },
      "source": [
        "df['length'] = [len(x) for x in df['text']]"
      ],
      "execution_count": null,
      "outputs": []
    },
    {
      "cell_type": "code",
      "metadata": {
        "colab": {
          "base_uri": "https://localhost:8080/"
        },
        "id": "IOU1yh2JayGU",
        "outputId": "fdc31c15-7d1a-429a-d7b6-ef72fbb3be13"
      },
      "source": [
        "print(\"Number of rows without text:\", len(df[df['text'] == '']))"
      ],
      "execution_count": null,
      "outputs": [
        {
          "output_type": "stream",
          "text": [
            "Number of rows without text: 3119\n"
          ],
          "name": "stdout"
        }
      ]
    },
    {
      "cell_type": "code",
      "metadata": {
        "id": "-mrb8iVHbIkr"
      },
      "source": [
        "# Drop empty text row\n",
        "df = df[df['text'].str.len() > 0]"
      ],
      "execution_count": null,
      "outputs": []
    },
    {
      "cell_type": "code",
      "metadata": {
        "colab": {
          "base_uri": "https://localhost:8080/"
        },
        "id": "_YUtybIjbTEw",
        "outputId": "57fefc5d-5418-4f73-ab33-3d7eb67e7a71"
      },
      "source": [
        "print(len(df))"
      ],
      "execution_count": null,
      "outputs": [
        {
          "output_type": "stream",
          "text": [
            "678165\n"
          ],
          "name": "stdout"
        }
      ]
    },
    {
      "cell_type": "code",
      "metadata": {
        "colab": {
          "base_uri": "https://localhost:8080/"
        },
        "id": "fYyoW1AQ_YP-",
        "outputId": "5ebc021d-e4d0-4bdf-b9d4-b585d3ee9022"
      },
      "source": [
        "df['length']"
      ],
      "execution_count": null,
      "outputs": [
        {
          "output_type": "execute_result",
          "data": {
            "text/plain": [
              "0           137\n",
              "1           160\n",
              "2         25445\n",
              "3            22\n",
              "4           380\n",
              "          ...  \n",
              "681279      241\n",
              "681280      377\n",
              "681281       70\n",
              "681282      327\n",
              "681283     1247\n",
              "Name: length, Length: 678165, dtype: int64"
            ]
          },
          "metadata": {
            "tags": []
          },
          "execution_count": 15
        }
      ]
    },
    {
      "cell_type": "code",
      "metadata": {
        "colab": {
          "base_uri": "https://localhost:8080/"
        },
        "id": "Lya6bPZX_nuD",
        "outputId": "1d2574db-99c5-4c3f-d019-a5e82d2e4a8a"
      },
      "source": [
        "df['length'].mean()"
      ],
      "execution_count": null,
      "outputs": [
        {
          "output_type": "execute_result",
          "data": {
            "text/plain": [
              "1105.8931248295032"
            ]
          },
          "metadata": {
            "tags": []
          },
          "execution_count": 16
        }
      ]
    },
    {
      "cell_type": "code",
      "metadata": {
        "colab": {
          "base_uri": "https://localhost:8080/",
          "height": 120
        },
        "id": "1b7qK7VhhM8d",
        "outputId": "470900be-d968-4946-9eec-e9723d3f1d99"
      },
      "source": [
        "df.iloc[1000]['text']"
      ],
      "execution_count": null,
      "outputs": [
        {
          "output_type": "execute_result",
          "data": {
            "application/vnd.google.colaboratory.intrinsic+json": {
              "type": "string"
            },
            "text/plain": [
              "\"My son and I are visiting Mom and Dad. I have not been to their house in about a year and am overdue for a visit. It took 13 hours to drive here. Mom had dinner ready when we walked through the door. Spaghetti red, she calls it. It's pasta, hamburger, onion, and tomato sauce seasoned with chili powder. A staple from my childhood.  I came here to tell them about losing my job but find I cannot do it. My brother is still searching for work and I do not want to add to their worries.   Dad's breathing is worse. He and I went to the Walmart today and after walking from the parking lot to the store he had to sit on a bench to catch his breath. He has emphysema. His death looms just over the horizon. All the years of smoking have exacted a terrible toll and he knows it. It tragic to talk with him about the disease.  My son spent most of the day with Mom sorting quarters and filing them in albums. She is trying to get complete sets of the new state quarters for each grandchild. He was thrilled to be helping Gram. She was thrilled too.  We will be here one more day and will return home Friday. I plan to leave early so I can get home and clean the air conditioner that is having trouble keeping up with the Texas heat. The girls are home with all the windows open and the air turned off. Poor things must really be suffering.  It's eleven o'clock at night. I have sorted through e-mail and checked my lottery numbers(dang! Missed again!). I am going to read the news and go to bed. Tomorrow will be another day spent with the folks talking about old stories and old friends.\""
            ]
          },
          "metadata": {
            "tags": []
          },
          "execution_count": 17
        }
      ]
    },
    {
      "cell_type": "code",
      "metadata": {
        "colab": {
          "base_uri": "https://localhost:8080/",
          "height": 35
        },
        "id": "q_fXlFEbO3hJ",
        "outputId": "ed3bb761-ccf9-4d9a-aa98-3b47ebe7db49"
      },
      "source": [
        "df.iloc[1000]['gender']"
      ],
      "execution_count": null,
      "outputs": [
        {
          "output_type": "execute_result",
          "data": {
            "application/vnd.google.colaboratory.intrinsic+json": {
              "type": "string"
            },
            "text/plain": [
              "'male'"
            ]
          },
          "metadata": {
            "tags": []
          },
          "execution_count": 18
        }
      ]
    },
    {
      "cell_type": "code",
      "metadata": {
        "colab": {
          "base_uri": "https://localhost:8080/"
        },
        "id": "iQs42KtbO5L0",
        "outputId": "3cd4f59f-10f3-4839-d7d1-7c7e4d5e6302"
      },
      "source": [
        "df[df['gender'] == 'female'].loc[77]['text']"
      ],
      "execution_count": null,
      "outputs": [
        {
          "output_type": "execute_result",
          "data": {
            "application/vnd.google.colaboratory.intrinsic+json": {
              "type": "string"
            },
            "text/plain": [
              "\"Why do I like him? He's funny We have so much in common He is so cute We have the same sick mind He likes friends (I know huh!) Unlike other guys he can actually match He is super sweet Never is he mad He is intelligent He is open, almost... ok he's blunt He is witty He is NOT gay (see, not all the good ones are) And yes ladys, he is real... and taken.  I dunno why he's with me. I didn't think he'd like a girl, well... like me. I mean, I'm  Not to bright(I almost get streight Fs) I'm fat I'm ugly I'm a bitch sometimes I'm clinicly insane (no... realy) That seems like a lot to deal with, don't you think? I don't know what the boy sees in me. But this is like a dream come true. Every girl dreams that some day the perfect guy will show up one day, even a girl like me. Well, mericals do happen. I guess there's hope after all. Even for a girl like me.\""
            ]
          },
          "metadata": {
            "tags": []
          },
          "execution_count": 19
        }
      ]
    },
    {
      "cell_type": "code",
      "metadata": {
        "id": "UlVf8rZChSJA"
      },
      "source": [
        "import transformers\n",
        "from transformers import GPT2LMHeadModel, GPT2Tokenizer, AutoTokenizer, AutoModelWithLMHead, AutoModelForCausalLM\n",
        "from datasets import Dataset"
      ],
      "execution_count": null,
      "outputs": []
    },
    {
      "cell_type": "markdown",
      "metadata": {
        "id": "lrg5HZ9U9zx8"
      },
      "source": [
        "https://github.com/huggingface/notebooks/blob/master/examples/summarization.ipynb\n",
        "https://github.com/huggingface/blog/blob/master/notebooks/01_how_to_train.ipynb\n",
        "https://github.com/huggingface/notebooks/blob/master/examples/language_modeling.ipynb"
      ]
    },
    {
      "cell_type": "markdown",
      "metadata": {
        "id": "fbKuYgbw8AYE"
      },
      "source": [
        "Load data using Huggingface's `datasets` library  \n",
        "https://huggingface.co/docs/datasets/loading_datasets.html"
      ]
    },
    {
      "cell_type": "code",
      "metadata": {
        "id": "pXXS3egGUABT"
      },
      "source": [
        "print(len(df[df['gender'] == 'male']))\n",
        "print(len(df[df['gender'] == 'female']))"
      ],
      "execution_count": null,
      "outputs": []
    },
    {
      "cell_type": "code",
      "metadata": {
        "id": "5MyLURjKTC3S"
      },
      "source": [
        "male_idx = (np.random.random_sample(size=25000) * len(df[df['gender'] == 'male'])).astype(np.int)\n",
        "female_idx = (np.random.random_sample(size=25000) * len(df[df['gender'] == 'female'])).astype(np.int)"
      ],
      "execution_count": null,
      "outputs": []
    },
    {
      "cell_type": "code",
      "metadata": {
        "id": "OYmQL42sUH9X"
      },
      "source": [
        "df_sub = pd.concat([df[df['gender'] == 'male'].iloc[male_idx], df[df['gender'] == 'female'].iloc[female_idx]])"
      ],
      "execution_count": null,
      "outputs": []
    },
    {
      "cell_type": "code",
      "metadata": {
        "id": "wdjOVWq0VB0E"
      },
      "source": [
        "df_sub.value_counts(['gender'])"
      ],
      "execution_count": null,
      "outputs": []
    },
    {
      "cell_type": "code",
      "metadata": {
        "id": "YJh7TNjIE9sr"
      },
      "source": [
        "dataset = Dataset.from_pandas(df_sub)"
      ],
      "execution_count": null,
      "outputs": []
    },
    {
      "cell_type": "code",
      "metadata": {
        "id": "9JyK7y-pE-Xb"
      },
      "source": [
        "dataset"
      ],
      "execution_count": null,
      "outputs": []
    },
    {
      "cell_type": "code",
      "metadata": {
        "id": "H4PXMBIwE_Nf"
      },
      "source": [
        "dataset.features"
      ],
      "execution_count": null,
      "outputs": []
    },
    {
      "cell_type": "code",
      "metadata": {
        "id": "tG1P9LHAose9"
      },
      "source": [
        "model_name = 'distilgpt2'"
      ],
      "execution_count": null,
      "outputs": []
    },
    {
      "cell_type": "code",
      "metadata": {
        "id": "5wTQ81_1DW2e"
      },
      "source": [
        "tokenizer = AutoTokenizer.from_pretrained(model_name, use_fast=True)\n",
        "tokenizer.pad_token = tokenizer.eos_token\n",
        "# model = GPT2LMHeadModel('gpt2', pad_token_id=tokenizer.eos_token_id).to('cuda')"
      ],
      "execution_count": null,
      "outputs": []
    },
    {
      "cell_type": "code",
      "metadata": {
        "id": "X0BqtUb3FG2I"
      },
      "source": [
        "def tokenize(sample_batch):\n",
        "  return tokenizer(sample_batch['text'],\n",
        "            add_special_tokens=True,\n",
        "            truncation='longest_first',\n",
        "            padding='max_length',\n",
        "            max_length=128\n",
        "            )"
      ],
      "execution_count": null,
      "outputs": []
    },
    {
      "cell_type": "code",
      "metadata": {
        "id": "YwmdIlTUz2sk"
      },
      "source": [
        "def assign_labels(sample_batch):\n",
        "  return {'labels': sample_batch['input_ids'].copy()}"
      ],
      "execution_count": null,
      "outputs": []
    },
    {
      "cell_type": "code",
      "metadata": {
        "id": "eIM0j4rsBUVW"
      },
      "source": [
        "dataset = dataset.map(tokenize, batched=True, batch_size=3000, remove_columns=['text'])"
      ],
      "execution_count": null,
      "outputs": []
    },
    {
      "cell_type": "code",
      "metadata": {
        "id": "2Kx6wduM0CAO"
      },
      "source": [
        "dataset = dataset.map(assign_labels, batched=True, batch_size=3000)"
      ],
      "execution_count": null,
      "outputs": []
    },
    {
      "cell_type": "code",
      "metadata": {
        "id": "PFFwkmUt7f-x"
      },
      "source": [
        "dataset.save_to_disk('/content/drive/MyDrive/CS 6120 - Final Project/dataset_pad')\n",
        "# dataset.save_to_disk('/content/drive/MyDrive/CS 6120 - Final Project/dataset_no_pad')"
      ],
      "execution_count": null,
      "outputs": []
    },
    {
      "cell_type": "code",
      "metadata": {
        "id": "m7wDeSto5MEn"
      },
      "source": [
        "# from datasets import load_from_disk\n",
        "# dataset = load_from_disk('/content/drive/MyDrive/CS 6120 - Final Project/dataset_pad')"
      ],
      "execution_count": null,
      "outputs": []
    },
    {
      "cell_type": "code",
      "metadata": {
        "id": "AfQX_JnVKvE0"
      },
      "source": [
        "dataset = dataset.train_test_split(test_size=0.1)"
      ],
      "execution_count": null,
      "outputs": []
    },
    {
      "cell_type": "code",
      "metadata": {
        "id": "1Y8ijpo_1q-t"
      },
      "source": [
        "dataset"
      ],
      "execution_count": null,
      "outputs": []
    },
    {
      "cell_type": "code",
      "metadata": {
        "id": "m3azHql4u-Rl"
      },
      "source": [
        "len(dataset['train'][0]['input_ids'])"
      ],
      "execution_count": null,
      "outputs": []
    },
    {
      "cell_type": "code",
      "metadata": {
        "id": "8Q6R0N4ejDlB"
      },
      "source": [
        "tokenizer.decode(dataset['train'][100]['input_ids'], skip_special_tokens=True)"
      ],
      "execution_count": null,
      "outputs": []
    },
    {
      "cell_type": "code",
      "metadata": {
        "id": "2zHBfftTgtnc"
      },
      "source": [
        "import torch\n",
        "from torch.utils.data import DataLoader, Dataset\n",
        "import torch.nn as nn\n",
        "import torch.nn.functional as F\n",
        "from transformers import AutoModelForCausalLM"
      ],
      "execution_count": null,
      "outputs": []
    },
    {
      "cell_type": "code",
      "metadata": {
        "id": "xujlZVnKpt4A"
      },
      "source": [
        "from transformers import Trainer, TrainingArguments"
      ],
      "execution_count": null,
      "outputs": []
    },
    {
      "cell_type": "markdown",
      "metadata": {
        "id": "FZ4DqMqHOLd4"
      },
      "source": [
        "https://github.com/huggingface/blog/blob/master/notebooks/02_how_to_generate.ipynb"
      ]
    },
    {
      "cell_type": "markdown",
      "metadata": {
        "id": "s-X6S9pruCLw"
      },
      "source": [
        "Please referto https://github.com/huggingface/transformers/issues/1413 on adding new tokens."
      ]
    },
    {
      "cell_type": "code",
      "metadata": {
        "colab": {
          "base_uri": "https://localhost:8080/"
        },
        "id": "5UbxThzjOqoj",
        "outputId": "1deb0c3f-3720-4674-9b78-7b7eacd78c0f"
      },
      "source": [
        "len(tokenizer)"
      ],
      "execution_count": null,
      "outputs": [
        {
          "output_type": "execute_result",
          "data": {
            "text/plain": [
              "50257"
            ]
          },
          "metadata": {
            "tags": []
          },
          "execution_count": 25
        }
      ]
    },
    {
      "cell_type": "code",
      "metadata": {
        "colab": {
          "base_uri": "https://localhost:8080/"
        },
        "id": "BR6kaMOvVRoL",
        "outputId": "beaca30b-ca15-4d64-aefc-2f5768fdfc03"
      },
      "source": [
        "tokenizer.special_tokens_map"
      ],
      "execution_count": null,
      "outputs": [
        {
          "output_type": "execute_result",
          "data": {
            "text/plain": [
              "{'bos_token': '<|endoftext|>',\n",
              " 'eos_token': '<|endoftext|>',\n",
              " 'pad_token': '<|endoftext|>',\n",
              " 'unk_token': '<|endoftext|>'}"
            ]
          },
          "metadata": {
            "tags": []
          },
          "execution_count": 26
        }
      ]
    },
    {
      "cell_type": "code",
      "metadata": {
        "colab": {
          "base_uri": "https://localhost:8080/"
        },
        "id": "kfpGi7dLUXGL",
        "outputId": "306c8f74-481a-4e14-cf7e-83aecfb2a652"
      },
      "source": [
        "tokenizer.add_tokens([f'<|{x}|>' for x in df['gender'].unique()])\n",
        "print(len(tokenizer))"
      ],
      "execution_count": null,
      "outputs": [
        {
          "output_type": "stream",
          "text": [
            "50259\n"
          ],
          "name": "stdout"
        }
      ]
    },
    {
      "cell_type": "code",
      "metadata": {
        "id": "TEUF0R7Ercsb",
        "colab": {
          "base_uri": "https://localhost:8080/",
          "height": 162
        },
        "outputId": "12cfd6d9-3bbf-4af9-a2a4-dc47a6bfd47c"
      },
      "source": [
        "model.resize_token_embeddings(len(tokenizer))"
      ],
      "execution_count": null,
      "outputs": [
        {
          "output_type": "error",
          "ename": "NameError",
          "evalue": "ignored",
          "traceback": [
            "\u001b[0;31m---------------------------------------------------------------------------\u001b[0m",
            "\u001b[0;31mNameError\u001b[0m                                 Traceback (most recent call last)",
            "\u001b[0;32m<ipython-input-28-933d36c5c265>\u001b[0m in \u001b[0;36m<module>\u001b[0;34m()\u001b[0m\n\u001b[0;32m----> 1\u001b[0;31m \u001b[0mmodel\u001b[0m\u001b[0;34m.\u001b[0m\u001b[0mresize_token_embeddings\u001b[0m\u001b[0;34m(\u001b[0m\u001b[0mlen\u001b[0m\u001b[0;34m(\u001b[0m\u001b[0mtokenizer\u001b[0m\u001b[0;34m)\u001b[0m\u001b[0;34m)\u001b[0m\u001b[0;34m\u001b[0m\u001b[0;34m\u001b[0m\u001b[0m\n\u001b[0m",
            "\u001b[0;31mNameError\u001b[0m: name 'model' is not defined"
          ]
        }
      ]
    },
    {
      "cell_type": "code",
      "metadata": {
        "id": "xQ6ryS5SWR8P"
      },
      "source": [
        "def add_hint_tokens(sample_batch):\n",
        "  input_ids = []\n",
        "  for ids in sample_batch['input_ids']:\n",
        "    input_ids.append(tokenizer.convert_tokens_to_ids(['<|male|>']) + ids)\n",
        "  attention_mask = [[1] + x for x in sample_batch['attention_mask']]\n",
        "  return {'input_ids': input_ids, 'attention_mask': attention_mask}"
      ],
      "execution_count": null,
      "outputs": []
    },
    {
      "cell_type": "code",
      "metadata": {
        "colab": {
          "base_uri": "https://localhost:8080/",
          "height": 114,
          "referenced_widgets": [
            "a34b6840fd3148129a471328d962ae60",
            "29e1ff50d3b645d5aa6b20636087a4b8",
            "01e440d764734ca6a660d2f3164c2e84",
            "9fe386cc9aaa4fd7babb8fef155771d8",
            "aba192e528544e66a34ead7d655b5130",
            "b6dc0065529d42da91ff60b3122d3866",
            "4600f09184e74ec28a251ad3b4f57d1f",
            "4a22994ec48f4be2afd4362c92f900ee",
            "dbc8c326b54d45888f1fb81e15e9f7af",
            "b8eef79c616142d9abd891ccb4bc44e8",
            "6be4d3f0158a4fe78baa4239e1db3787",
            "652f79e8e8454207a774a20d7e034357",
            "c753b2d968db49d1ac2fa1bb83510a20",
            "87162dc4e4814ed9a6569a7f49febe6f",
            "036d112a6bb14968bdba7519726b7132",
            "adb88bff509b424fb71867ebd673bdcc"
          ]
        },
        "id": "ey_ltnerXfFG",
        "outputId": "d9da867c-c005-4ecc-f8b9-7c5addea1022"
      },
      "source": [
        "dataset = dataset.map(add_hint_tokens, batched=True, batch_size=3000)"
      ],
      "execution_count": null,
      "outputs": [
        {
          "output_type": "display_data",
          "data": {
            "application/vnd.jupyter.widget-view+json": {
              "model_id": "a34b6840fd3148129a471328d962ae60",
              "version_minor": 0,
              "version_major": 2
            },
            "text/plain": [
              "HBox(children=(FloatProgress(value=0.0, max=15.0), HTML(value='')))"
            ]
          },
          "metadata": {
            "tags": []
          }
        },
        {
          "output_type": "stream",
          "text": [
            "\n"
          ],
          "name": "stdout"
        },
        {
          "output_type": "display_data",
          "data": {
            "application/vnd.jupyter.widget-view+json": {
              "model_id": "dbc8c326b54d45888f1fb81e15e9f7af",
              "version_minor": 0,
              "version_major": 2
            },
            "text/plain": [
              "HBox(children=(FloatProgress(value=0.0, max=2.0), HTML(value='')))"
            ]
          },
          "metadata": {
            "tags": []
          }
        },
        {
          "output_type": "stream",
          "text": [
            "\n"
          ],
          "name": "stdout"
        }
      ]
    },
    {
      "cell_type": "code",
      "metadata": {
        "colab": {
          "base_uri": "https://localhost:8080/",
          "height": 114,
          "referenced_widgets": [
            "04fa29b6454f48e19bb910ffabdcc753",
            "4e6378c4687449359237b9a9e357208e",
            "30402a02cefe4e7a91c551f09c31ffca",
            "bfd28d569a214006ad082562f6af79dc",
            "911f0002f5154a338435c264ceeb8338",
            "74687b9898cb4fbcad6706d33b97b629",
            "598815197e3344789ccd9362963cef11",
            "33994aa571be429ab0aaf397b4414763",
            "462125d78b7b42aea2532be0f3ff4b74",
            "7987a477baa34fb3979735f5d325a7d0",
            "ea2a2f58b9e849f883d68c8415ee38b9",
            "192573cc34b04145b64ccaff7a431dfc",
            "4be1a2a1396e46d88333107b20d81254",
            "3d711f69ded94c238669201ffe943ec8",
            "987a68744fa641ad896c74ebc8b43cd4",
            "6ec8b380951347d9a8e761e615b2cb6a"
          ]
        },
        "id": "-HdFmzbBYNFo",
        "outputId": "13f3ceae-d3b4-4b10-f770-9241e8c5b018"
      },
      "source": [
        "dataset = dataset.map(assign_labels, batched=True, batch_size=3000)"
      ],
      "execution_count": null,
      "outputs": [
        {
          "output_type": "display_data",
          "data": {
            "application/vnd.jupyter.widget-view+json": {
              "model_id": "04fa29b6454f48e19bb910ffabdcc753",
              "version_minor": 0,
              "version_major": 2
            },
            "text/plain": [
              "HBox(children=(FloatProgress(value=0.0, max=15.0), HTML(value='')))"
            ]
          },
          "metadata": {
            "tags": []
          }
        },
        {
          "output_type": "stream",
          "text": [
            "\n"
          ],
          "name": "stdout"
        },
        {
          "output_type": "display_data",
          "data": {
            "application/vnd.jupyter.widget-view+json": {
              "model_id": "462125d78b7b42aea2532be0f3ff4b74",
              "version_minor": 0,
              "version_major": 2
            },
            "text/plain": [
              "HBox(children=(FloatProgress(value=0.0, max=2.0), HTML(value='')))"
            ]
          },
          "metadata": {
            "tags": []
          }
        },
        {
          "output_type": "stream",
          "text": [
            "\n"
          ],
          "name": "stdout"
        }
      ]
    },
    {
      "cell_type": "code",
      "metadata": {
        "colab": {
          "base_uri": "https://localhost:8080/"
        },
        "id": "P2Ar9KEtXrrz",
        "outputId": "9cb27e8e-6de6-4fbb-e1d8-cba47e7ca2e9"
      },
      "source": [
        "print(tokenizer.decode(dataset['train'][0]['input_ids'], skip_special_tokens=True))\n",
        "print(tokenizer.decode(dataset['train'][0]['labels'], skip_special_tokens=True))"
      ],
      "execution_count": null,
      "outputs": [
        {
          "output_type": "stream",
          "text": [
            "<|male|>                 i hate eavesdroppers. they are the ones who listen secretly to a private conversation. instead of sneaking and listening, go ask the person about it if u wanna know the real story. eavesdroppin is bad. if u don't believe me, ask GOD! Ü               \n",
            "<|male|>                 i hate eavesdroppers. they are the ones who listen secretly to a private conversation. instead of sneaking and listening, go ask the person about it if u wanna know the real story. eavesdroppin is bad. if u don't believe me, ask GOD! Ü               \n"
          ],
          "name": "stdout"
        }
      ]
    },
    {
      "cell_type": "code",
      "metadata": {
        "colab": {
          "base_uri": "https://localhost:8080/",
          "height": 66,
          "referenced_widgets": [
            "153cc3ac91de4d3a9a67b45887b6957e",
            "1dd4a2cc39b34dbc88693da26a562c98",
            "b990d98bbe8a4957af6cf3512dc569db",
            "50282f8ccaa141edb183e00825c1c16b",
            "e15e32da99ce4cc6940814555534707b",
            "9dc9392c80be48b4b094c7a137f24678",
            "ef37b4774f8b42deaeb30b29f91ef4ab",
            "45e6c9c8caa54e3594203267b1af69ae"
          ]
        },
        "id": "AlqjAXDKWApn",
        "outputId": "f4d3f447-2931-49cc-c596-304792be7f7c"
      },
      "source": [
        "model = AutoModelForCausalLM.from_pretrained(model_name).to('cuda')"
      ],
      "execution_count": null,
      "outputs": [
        {
          "output_type": "display_data",
          "data": {
            "application/vnd.jupyter.widget-view+json": {
              "model_id": "153cc3ac91de4d3a9a67b45887b6957e",
              "version_minor": 0,
              "version_major": 2
            },
            "text/plain": [
              "HBox(children=(FloatProgress(value=0.0, description='Downloading', max=352833716.0, style=ProgressStyle(descri…"
            ]
          },
          "metadata": {
            "tags": []
          }
        },
        {
          "output_type": "stream",
          "text": [
            "\n"
          ],
          "name": "stdout"
        }
      ]
    },
    {
      "cell_type": "code",
      "metadata": {
        "id": "_Pp-7AcfX0VN"
      },
      "source": [
        "training_args = TrainingArguments(\n",
        "    \"/content/drive/MyDrive/CS 6120 - Final Project/test-clm/with-hint\",\n",
        "    evaluation_strategy = \"epoch\",\n",
        "    learning_rate=2e-5,\n",
        "    weight_decay=0.01,\n",
        "    per_device_train_batch_size=48,\n",
        "    save_strategy='epoch',\n",
        "    logging_strategy='epoch',\n",
        "    save_total_limit=1\n",
        ")"
      ],
      "execution_count": null,
      "outputs": []
    },
    {
      "cell_type": "code",
      "metadata": {
        "id": "EuedQPqdX_Gc"
      },
      "source": [
        "trainer = Trainer(\n",
        "    model=model,\n",
        "    args=training_args,\n",
        "    train_dataset=dataset['train'],\n",
        "    eval_dataset=dataset['test'],\n",
        ")"
      ],
      "execution_count": null,
      "outputs": []
    },
    {
      "cell_type": "code",
      "metadata": {
        "colab": {
          "base_uri": "https://localhost:8080/",
          "height": 199
        },
        "id": "IokaZhvAYDR0",
        "outputId": "a8ea4e08-e5bd-46b7-9467-a4fb4fb3dc1a"
      },
      "source": [
        "trainer.train()"
      ],
      "execution_count": null,
      "outputs": [
        {
          "output_type": "display_data",
          "data": {
            "text/html": [
              "\n",
              "    <div>\n",
              "        <style>\n",
              "            /* Turns off some styling */\n",
              "            progress {\n",
              "                /* gets rid of default border in Firefox and Opera. */\n",
              "                border: none;\n",
              "                /* Needs to be in here for Safari polyfill so background images work as expected. */\n",
              "                background-size: auto;\n",
              "            }\n",
              "        </style>\n",
              "      \n",
              "      <progress value='2814' max='2814' style='width:300px; height:20px; vertical-align: middle;'></progress>\n",
              "      [2814/2814 29:42, Epoch 3/3]\n",
              "    </div>\n",
              "    <table border=\"1\" class=\"dataframe\">\n",
              "  <thead>\n",
              "    <tr style=\"text-align: left;\">\n",
              "      <th>Epoch</th>\n",
              "      <th>Training Loss</th>\n",
              "      <th>Validation Loss</th>\n",
              "      <th>Runtime</th>\n",
              "      <th>Samples Per Second</th>\n",
              "    </tr>\n",
              "  </thead>\n",
              "  <tbody>\n",
              "    <tr>\n",
              "      <td>1</td>\n",
              "      <td>3.339600</td>\n",
              "      <td>2.846267</td>\n",
              "      <td>22.088000</td>\n",
              "      <td>226.367000</td>\n",
              "    </tr>\n",
              "    <tr>\n",
              "      <td>2</td>\n",
              "      <td>2.881200</td>\n",
              "      <td>2.827590</td>\n",
              "      <td>22.000700</td>\n",
              "      <td>227.265000</td>\n",
              "    </tr>\n",
              "    <tr>\n",
              "      <td>3</td>\n",
              "      <td>2.857500</td>\n",
              "      <td>2.822855</td>\n",
              "      <td>22.044800</td>\n",
              "      <td>226.811000</td>\n",
              "    </tr>\n",
              "  </tbody>\n",
              "</table><p>"
            ],
            "text/plain": [
              "<IPython.core.display.HTML object>"
            ]
          },
          "metadata": {
            "tags": []
          }
        },
        {
          "output_type": "execute_result",
          "data": {
            "text/plain": [
              "TrainOutput(global_step=2814, training_loss=3.026074288157427, metrics={'train_runtime': 1782.9907, 'train_samples_per_second': 1.578, 'total_flos': 8559205562880000.0, 'epoch': 3.0, 'init_mem_cpu_alloc_delta': 0, 'init_mem_gpu_alloc_delta': 0, 'init_mem_cpu_peaked_delta': 0, 'init_mem_gpu_peaked_delta': 0, 'train_mem_cpu_alloc_delta': -341295104, 'train_mem_gpu_alloc_delta': 983266304, 'train_mem_cpu_peaked_delta': 351752192, 'train_mem_gpu_peaked_delta': 10574880256})"
            ]
          },
          "metadata": {
            "tags": []
          },
          "execution_count": 61
        }
      ]
    },
    {
      "cell_type": "code",
      "metadata": {
        "id": "kIOoVYRwdGNb"
      },
      "source": [
        "# model = AutoModelForCausalLM.from_pretrained(\"/content/drive/MyDrive/CS 6120 - Final Project/test-clm/with-hint/checkpoint-2814\", pad_token_id=tokenizer.eos_token_id).to('cuda')\n",
        "model = AutoModelForCausalLM.from_pretrained(model_name, pad_token_id=tokenizer.eos_token_id).to('cuda')"
      ],
      "execution_count": null,
      "outputs": []
    },
    {
      "cell_type": "code",
      "metadata": {
        "colab": {
          "base_uri": "https://localhost:8080/"
        },
        "id": "2v-QdIEZWnm9",
        "outputId": "310cbc24-f465-4b6c-e572-35a90009d156"
      },
      "source": [
        "input_sentence = \"Why do I like him? He's funny We and have so much in common.\"\n",
        "sample_inpud_ids = tokenizer.encode(input_sentence, return_tens\n",
        "                                    ors='pt').cuda()\n",
        "sample_output = model.generate(\n",
        "    sample_inpud_ids, \n",
        "    do_sample=True, \n",
        "    max_length=128,\n",
        "    top_p=0.9,\n",
        "    top_k=50,\n",
        "    no_repeat_ngram_size=3,\n",
        "    # temperature=0.5,\n",
        "    num_return_sequences=10\n",
        ")\n",
        "print(\"Input:\\n\" + 100 * '-')\n",
        "print(input_sentence)\n",
        "print(\"Output:\\n\" + 100 * '-')\n",
        "for i, s in enumerate(sample_output):\n",
        "  print(f'{i+1}.', tokenizer.decode(s, skip_special_tokens=True))"
      ],
      "execution_count": null,
      "outputs": [
        {
          "output_type": "stream",
          "text": [
            "Input:\n",
            "----------------------------------------------------------------------------------------------------\n",
            "Why do I like him? He's funny We and have so much in common.\n",
            "Output:\n",
            "----------------------------------------------------------------------------------------------------\n",
            "1. Why do I like him? He's funny We and have so much in common. I don't like the idea of a character as a human, but I like the concept of a hero being that he's kind of a little, just like a big boy who's been through the pain of a lifetime, you know.\n",
            "\n",
            "\n",
            "\"I like that guy, just because he's just one of the best characters ever. I like that. I think he's the best character ever. He's one of those guys. He could be a real hero. He just keeps me from being the best person ever, not because he hasn\n",
            "2. Why do I like him? He's funny We and have so much in common. He does, in a very emotional way, just a little bit of a joy. I wish he had some time in the car. But if I was to have any kind of love to the guy, it would be something I would love to do and I would not even be in the business of owning a car, but I would really be able to just get my wife to enjoy that, because he has been so generous and so kind to his wife.\n",
            "\n",
            "\n",
            "But this season, it's not the first time that you've watched him grow\n",
            "3. Why do I like him? He's funny We and have so much in common. He's a great player, he's a fun guy.\"\n",
            "\n",
            "\n",
            "\"I can't get excited with my player or anything else in this league or what I think he's going to do, because I think people are going to be disappointed and disappointed,\" said DeMarco Murray, the Cowboys general manager, about the two players. \"He's always fun, he just goes through this stuff, he makes every single one of his plays.\n",
            "\"We just want to keep him here.\"\n",
            "Murray, the youngest running back at the University of North\n",
            "4. Why do I like him? He's funny We and have so much in common. We all hate him. He's our man. We hate his name. He has so much. He loves to see the NFL and loves the NFL. He hates his career.\n",
            "\n",
            "\n",
            "Cleveland fans can point out why some young players are so upset at the NFL because of the way the league works. They're always mad at fans. Some people don't. So when they get angry and make racist comments or are told by them they can't handle the comments, they just get upset.\n",
            "The truth is when the problem starts you\n",
            "5. Why do I like him? He's funny We and have so much in common. I like this guy! He can't be a joke. So he's not joking, he's funny. It's like this. I don't like it. But you know, I like to talk about this guy when I watch him do interviews and it's cool, it's fun. But I really like the guy. It was a show I was looking forward to watching. I'm watching him. But, no, because he's just amazing. He's amazing! That's what I like. I mean, you guys like to think that\n",
            "6. Why do I like him? He's funny We and have so much in common.\n",
            "\n",
            "\n",
            "So he's been a pretty good fit for the Sixers' future and it's a great fit for this team, especially considering what his family and the organization has accomplished on the court.\n",
            "On a team with four teams with five players on the floor, it's difficult to say whether he's going to make a big impact on a team that has had two of the best players in their entire team.\n",
            "But even in an age when his teammates have gone all out to defend the ball, if the defense doesn't see the jump jump\n",
            "7. Why do I like him? He's funny We and have so much in common. I think I like our people. I love the way he talks and he talks. I don't like them. He's just a guy who just knows what he's got and he can't be an average guy.\"\n",
            "8. Why do I like him? He's funny We and have so much in common.\n",
            "\n",
            "\n",
            "So how did this develop?\n",
            "I love him! I love it!\n",
            "I mean, if he had a personality, he might be in a relationship with me, but he still doesn't fit the personality traits. But then I'd like to tell him how that character works and then, I'll tell him who's going to play him, and let him know if he's a good player and if he wants to play, he'll do it for him.\n",
            "I was talking about how all of that work together, I'm\n",
            "9. Why do I like him? He's funny We and have so much in common. What do you guys like? We like him, we like him.\n",
            "\n",
            "\n",
            "You're an excellent writer, but it's tough to tell how much more your writing has changed since then. What did you make of it?\n",
            "\n",
            "The story of the book is a very interesting one. I think the book was written to tell stories of family, and I think there's a certain sort of tension between the characters of this book and how the book has changed.\n",
            "You've just talked to a lot of the writers from the show. Is it\n",
            "10. Why do I like him? He's funny We and have so much in common. How many times do you like him, how many times did you like his hair?”\n"
          ],
          "name": "stdout"
        }
      ]
    },
    {
      "cell_type": "code",
      "metadata": {
        "id": "IfQmCQjldLEd"
      },
      "source": [
        "input_sentence = \"<|male|> Why do I like him? He's funny We and have so much in common.\"\n",
        "sample_inpud_ids = tokenizer.encode(input_sentence, return_tensors='pt').cuda() "
      ],
      "execution_count": null,
      "outputs": []
    },
    {
      "cell_type": "code",
      "metadata": {
        "colab": {
          "base_uri": "https://localhost:8080/"
        },
        "id": "-NhK0ozddL-H",
        "outputId": "927f69db-2e79-4e62-f0c6-32c0cf3d25f5"
      },
      "source": [
        "sample_output = model.generate(\n",
        "    sample_inpud_ids, \n",
        "    do_sample=True, \n",
        "    max_length=100,\n",
        "    top_p=0.95,\n",
        "    # top_k=0,\n",
        "    no_repeat_ngram_size=4,\n",
        "    temperature=0.8\n",
        ")\n",
        "print(\"Input:\\n\" + 100 * '-')\n",
        "print(input_sentence)\n",
        "print(\"Output:\\n\" + 100 * '-')\n",
        "print(tokenizer.decode(sample_output[0], skip_special_tokens=True))"
      ],
      "execution_count": null,
      "outputs": [
        {
          "output_type": "stream",
          "text": [
            "Setting `pad_token_id` to `eos_token_id`:50256 for open-end generation.\n"
          ],
          "name": "stderr"
        },
        {
          "output_type": "stream",
          "text": [
            "Input:\n",
            "----------------------------------------------------------------------------------------------------\n",
            "<|male|> Why do I like him? He's funny We and have so much in common.\n",
            "Output:\n",
            "----------------------------------------------------------------------------------------------------\n",
            "<|male|> Why do I like him? He's funny We and have so much in common.    \n"
          ],
          "name": "stdout"
        }
      ]
    },
    {
      "cell_type": "code",
      "metadata": {
        "id": "Av4Dld7Va2e6"
      },
      "source": [
        "input_sentence = '<|male|> I fall in love with a'\n",
        "sample_inpud_ids = tokenizer.encode(input_sentence, return_tensors='pt').cuda() "
      ],
      "execution_count": null,
      "outputs": []
    },
    {
      "cell_type": "code",
      "metadata": {
        "colab": {
          "base_uri": "https://localhost:8080/"
        },
        "id": "LLGBe1u5Ydht",
        "outputId": "0ebee786-345c-42c8-80c1-e6a62ac190ab"
      },
      "source": [
        "sample_output = model.generate(\n",
        "    sample_inpud_ids, \n",
        "    do_sample=True, \n",
        "    max_length=100, \n",
        "    top_p=0.95,\n",
        "    no_repeat_ngram_size=4,\n",
        "    temperature=0.9,\n",
        "    num_return_sequences=10\n",
        ")\n",
        "print(\"Input:\\n\" + 100 * '-')\n",
        "print(input_sentence)\n",
        "print(\"Output:\\n\" + 100 * '-')\n",
        "for i in range(len(sample_output)):\n",
        "  print(tokenizer.decode(sample_output[i], skip_special_tokens=True))"
      ],
      "execution_count": null,
      "outputs": [
        {
          "output_type": "stream",
          "text": [
            "Setting `pad_token_id` to `eos_token_id`:50256 for open-end generation.\n"
          ],
          "name": "stderr"
        },
        {
          "output_type": "stream",
          "text": [
            "Input:\n",
            "----------------------------------------------------------------------------------------------------\n",
            "<|male|> I fall in love with a\n",
            "Output:\n",
            "----------------------------------------------------------------------------------------------------\n",
            "<|male|> I fall in love with a man who's a good person, he wants to see you. I fall inlove with a man in a bad way. That's the way you do it. I fall into love with a woman that really matters. I fall out of love with a guy who makes me love you more than you have. He loves me more than you. His friend is his friend. He loves him more than you do. And he loves me more.\n",
            "<|male|> I fall in love with a woman who is very good at telling stories about her life,””    \n",
            "<|male|> I fall in love with a guy called Daphne.”\n",
            "<|male|> I fall in love with a woman who is pretty, I'm in love with her.     *hugs*   \n",
            "<|male|> I fall in love with a cat. It's just that it doesn't care.    \n",
            "<|male|> I fall in love with a certain amount of people.”    \n",
            "<|male|> I fall in love with a woman who thinks I can be a woman|> It is the one that makes me feel like I am a woman|i think that I am a man|> I can't be my man,”    \n",
            "<|male|> I fall in love with a girl I love, and it doesn't hurt to be a girl I like    \n",
            "<|male|> I fall in love with a girl    \n",
            "<|male|> I fall in love with a guy that's not like me.    \n"
          ],
          "name": "stdout"
        }
      ]
    },
    {
      "cell_type": "code",
      "metadata": {
        "id": "0C7Rf1s4a9TA"
      },
      "source": [
        "input_sentence = '<|female|> I fall in love with a'\n",
        "sample_inpud_ids = tokenizer.encode(input_sentence, return_tensors='pt').cuda() "
      ],
      "execution_count": null,
      "outputs": []
    },
    {
      "cell_type": "code",
      "metadata": {
        "colab": {
          "base_uri": "https://localhost:8080/"
        },
        "id": "BJ0M4e3qbESj",
        "outputId": "9cd9bf59-2bf2-4932-b5a9-d2b8f998fbaf"
      },
      "source": [
        "sample_output = model.generate(\n",
        "    sample_inpud_ids, \n",
        "    do_sample=True, \n",
        "    max_length=128, \n",
        "    top_p=0.95,\n",
        "    no_repeat_ngram_size=4,\n",
        "    temperature=0.9,\n",
        "    num_return_sequences=10\n",
        ")\n",
        "print(\"Input:\\n\" + 100 * '-')\n",
        "print(input_sentence)\n",
        "print(\"Output:\\n\" + 100 * '-')\n",
        "for i in range(len(sample_output)):\n",
        "  print(tokenizer.decode(sample_output[i], skip_special_tokens=True))"
      ],
      "execution_count": null,
      "outputs": [
        {
          "output_type": "stream",
          "text": [
            "Input:\n",
            "----------------------------------------------------------------------------------------------------\n",
            "<|male|> Yesterday I told you about my progression into Hippy-ness, but there was been some developments in the time sinse I have posted      Back to the topic of me being a Hippy.  After the events of last night it seems I have a hippy alter ego, like Yugi has an alter ego who is an ultra cool, slightly taller, card playing ancient pharaoh. Sadly my alter ego isn’t ultra cool or slightly taller or has his own television show and range of merchandise. No my alter ego seems to be the unholy child of Beck (the much loved 70’s styled artist of the mid 90’s) and Shaggy (from Scooby doo)  I think I may gain some amazing Hippy Powers when I metamorphose but all I can remember was the uncontrollable desire for Pizza, to have my hair put into dread locks and more importantly using the words ‘like’, ‘man’ and ‘dude’ far to much.  As I was saying last night was a blur, but when I woke up this morning I found I was wearing flares, had written and recorded several songs promoting scientology, solved the mystery of the Indooroopilly shopping center and had taken out a patent on a catch phrase.  But this left me with a question how I transformed? Was it because of the half moon or the 18th birthday or had I been bestowed with the power of Hippy-ness in the same way the power rangers had power-rangerness bestowed on them.    I am not sure we will just have to wait and see.  But on a unhippy related topic i have to talk about music.  i love music and atm i am enjoying Safri duo, Robert Miles, the blue man group, Simple Plan, Millencolin, Bomfunk, Beethoven and Mozart  this hasnt got anything to do with anything i was wanted to mention my play list on sonic stage 2  Well that was me procrastinating and avoiding studing  Az\n",
            "Output:\n",
            "----------------------------------------------------------------------------------------------------\n",
            "<|male|> Yesterday I told you about my progression into Hippy-ness, but there was been some developments in the time sinse I have posted. I had a friend that has a PhD at the University of California, where I have been at many of my previous endeavors. She has a PhD, and I will have to get it on to the big screen. This will be my life, i'll go ahead and talk to you. I'm not going to take her away. I'm going to try and make a statement for you.  What do you want to do?     I've been to\n",
            "<|male|> Yesterday I told you about my progression into Hippy-ness, but there was been some developments in the time sinse I have posted. As you may have noticed, I have changed my diet from vegetarian to vegan, and I have reduced sugar, milk, and caffeine. I have increased my intake of sugar by a whopping 7% over the past 4 months. I believe that I have a better diet than the majority of the people who eat high fat foods. I am very happy with this. I will be in a better position now.    \n",
            "<|male|> Yesterday I told you about my progression into Hippy-ness, but there was been some developments in the time sinse I have posted.   I was a bit upset at my poor judgment.  It was a bit of a shock because I had never really had any fun in the time.  I wanted to give you some idea of what I was going through, but this time it wasn't, so it took the risk of getting caught in the cycle and turning this into a whole new thing.  I didn't want the whole concept of a happy ending, and I didn't really want the entire\n",
            "<|male|> Yesterday I told you about my progression into Hippy-ness, but there was been some developments in the time sinse I have posted... I will post my findings in the next post.     I think that in the end I will be doing the same, and I will try to do better.   I believe in the world that is right, and the world that I am in is correct, and I believe that there is a right and necessary way to express my feelings about myself.   When I write about myself I am always in a mood for the best.  I am constantly\n",
            "<|male|> Yesterday I told you about my progression into Hippy-ness, but there was been some developments in the time sinse I have posted. I had a new blog and got a new blog, the new blog, and I have all those new bits of stuff going on and I think that's a really neat thing to have done. Also, I feel like I've accomplished something, I think the new blog. I was pretty happy, I still don't like to be in the mood to be around my old friends, but I think that a lot of things have happened. I can't remember my previous blog\n",
            "<|male|> Yesterday I told you about my progression into Hippy-ness, but there was been some developments in the time sinse I have posted lately.     It is now in the early 80's that I will be taking the whole life of my sister-in-law, which has brought her back from my post.   And it's nice to be alive and having a very good time, but I also feel like I've failed in some areas.   I'm a little worried about how much I have to do before I get back in shape.  I've also been working on the\n",
            "<|male|> Yesterday I told you about my progression into Hippy-ness, but there was been some developments in the time sinse I have posted about, and I thought this might be a good start.  I got a call today from my husband, and he was talking about the current mood he saw in the past, and how that changed my life.  So, while I was doing a quick recap of the past, he said that it wasn't really good for him to change to hippy-ness.  He had already made it up to me, and he seemed to have decided to change that. \n",
            "<|male|> Yesterday I told you about my progression into Hippy-ness, but there was been some developments in the time sinse I have posted there, so now there are things you have to have faith in and that are essential in your life. God created my life. I pray to you. It was a big journey. A very long one. A wonderful journey. A good one. But I'm still not sure how to get to that point. I just felt a little bit lost at school. I'm not sure what to do when I get older and I feel the need to change. I know that I\n",
            "<|male|> Yesterday I told you about my progression into Hippy-ness, but there was been some developments in the time sinse I have posted. So, I took up this blog to a new point, in order to get all the information on a few things, and to see if anyone can remember them.     I just want to say:  'I'm not a hippy! I'm not hippy!'    That's the story from my old blog I took up at about 6:00am this morning. I had a very nice meal with some hippie kids. I also\n",
            "<|male|> Yesterday I told you about my progression into Hippy-ness, but there was been some developments in the time sinse I have posted. There was, however, another issue of the time sin was in my mind, but I didn't take that to heart. I just couldn't believe that when I read this, I'd been in denial. I don't care. I have a pretty good understanding of Sinse. If you don't understand it, you're a fool.    \n"
          ],
          "name": "stdout"
        }
      ]
    },
    {
      "cell_type": "code",
      "metadata": {
        "id": "hzeUCwb-pwqa"
      },
      "source": [
        "from tqdm.notebook import tqdm"
      ],
      "execution_count": null,
      "outputs": []
    },
    {
      "cell_type": "code",
      "metadata": {
        "colab": {
          "base_uri": "https://localhost:8080/",
          "height": 66,
          "referenced_widgets": [
            "ec73404f178543cfb8900a9bf2da8c61",
            "1ba45379eab348fda3ad8f5e442a50ef",
            "9e49f301b517439e90bbfc54371c05a3",
            "1d496e4332214fccb631a5a409a49a1d",
            "6f0ff277a66f4ae799051b0d4212df31",
            "c52d006e4aa94c3fa04330b4b33f841c",
            "1d6cf4a9b0324b86b084c09b79f4d856",
            "bfa84d90ad19449bab5fb99395659ecd"
          ]
        },
        "id": "ulAsRR6obEmE",
        "outputId": "1ae3af2e-f6a8-4b9b-fab5-310aa9e67127"
      },
      "source": [
        "df_gen = {'gender': [], 'text': []}\n",
        "n_gen = 2000\n",
        "male_idx = (np.random.random_sample(size=int(n_gen/2)) * len(df[df['gender'] == 'male'])).astype(np.int)\n",
        "female_idx = (np.random.random_sample(size=int(n_gen/2)) * len(df[df['gender'] == 'female'])).astype(np.int)\n",
        "df_sub = pd.concat([df[df['gender'] == 'male'].iloc[male_idx], df[df['gender'] == 'female'].iloc[female_idx]])\n",
        "for row in tqdm(df_sub[['gender', 'text']].itertuples(), total=n_gen):\n",
        "  input_sentence = f'<|{row.gender}|> ' + row.text\n",
        "  sample_inpud_ids = tokenizer.encode(input_sentence, truncation=True, max_length=32, return_tensors='pt').cuda()\n",
        "\n",
        "  sample_output = model.generate(\n",
        "      sample_inpud_ids, \n",
        "      do_sample=True,\n",
        "      max_length=128, \n",
        "      top_p=0.95,\n",
        "      no_repeat_ngram_size=4,\n",
        "      temperature=0.9,\n",
        "      num_return_sequences=20\n",
        "  )\n",
        "  for s in sample_output:\n",
        "    # The first token is <|gender|>\n",
        "    text = tokenizer.decode(s, skip_special_tokens=True)\n",
        "    special_end = text.find('>')\n",
        "    # df_gen['text'].append(text)\n",
        "    df_gen['text'].append(text[special_end+1:])\n",
        "    df_gen['gender'].append(row.gender)"
      ],
      "execution_count": null,
      "outputs": [
        {
          "output_type": "display_data",
          "data": {
            "application/vnd.jupyter.widget-view+json": {
              "model_id": "ec73404f178543cfb8900a9bf2da8c61",
              "version_minor": 0,
              "version_major": 2
            },
            "text/plain": [
              "HBox(children=(FloatProgress(value=0.0, max=2000.0), HTML(value='')))"
            ]
          },
          "metadata": {
            "tags": []
          }
        },
        {
          "output_type": "stream",
          "text": [
            "\n"
          ],
          "name": "stdout"
        }
      ]
    },
    {
      "cell_type": "code",
      "metadata": {
        "id": "XRuVKrrio78H"
      },
      "source": [
        "df_gen = pd.DataFrame(df_gen)"
      ],
      "execution_count": null,
      "outputs": []
    },
    {
      "cell_type": "code",
      "metadata": {
        "colab": {
          "base_uri": "https://localhost:8080/",
          "height": 402
        },
        "id": "qXcGd7umPpcN",
        "outputId": "961f82d2-51a4-4741-f807-19a2308f14a3"
      },
      "source": [
        "df_gen"
      ],
      "execution_count": null,
      "outputs": [
        {
          "output_type": "execute_result",
          "data": {
            "text/html": [
              "<div>\n",
              "<style scoped>\n",
              "    .dataframe tbody tr th:only-of-type {\n",
              "        vertical-align: middle;\n",
              "    }\n",
              "\n",
              "    .dataframe tbody tr th {\n",
              "        vertical-align: top;\n",
              "    }\n",
              "\n",
              "    .dataframe thead th {\n",
              "        text-align: right;\n",
              "    }\n",
              "</style>\n",
              "<table border=\"1\" class=\"dataframe\">\n",
              "  <thead>\n",
              "    <tr style=\"text-align: right;\">\n",
              "      <th></th>\n",
              "      <th>gender</th>\n",
              "      <th>text</th>\n",
              "    </tr>\n",
              "  </thead>\n",
              "  <tbody>\n",
              "    <tr>\n",
              "      <th>0</th>\n",
              "      <td>male</td>\n",
              "      <td>HEYA all. I'm in Spring Day, and the practices...</td>\n",
              "    </tr>\n",
              "    <tr>\n",
              "      <th>1</th>\n",
              "      <td>male</td>\n",
              "      <td>HEYA all. I'm in Spring Day, and the practices...</td>\n",
              "    </tr>\n",
              "    <tr>\n",
              "      <th>2</th>\n",
              "      <td>male</td>\n",
              "      <td>HEYA all. I'm in Spring Day, and the practices...</td>\n",
              "    </tr>\n",
              "    <tr>\n",
              "      <th>3</th>\n",
              "      <td>male</td>\n",
              "      <td>HEYA all. I'm in Spring Day, and the practices...</td>\n",
              "    </tr>\n",
              "    <tr>\n",
              "      <th>4</th>\n",
              "      <td>male</td>\n",
              "      <td>HEYA all. I'm in Spring Day, and the practices...</td>\n",
              "    </tr>\n",
              "    <tr>\n",
              "      <th>...</th>\n",
              "      <td>...</td>\n",
              "      <td>...</td>\n",
              "    </tr>\n",
              "    <tr>\n",
              "      <th>39995</th>\n",
              "      <td>female</td>\n",
              "      <td>I lay my life before you/and i'm not getting u...</td>\n",
              "    </tr>\n",
              "    <tr>\n",
              "      <th>39996</th>\n",
              "      <td>female</td>\n",
              "      <td>I lay my life before you/and i'm not getting u...</td>\n",
              "    </tr>\n",
              "    <tr>\n",
              "      <th>39997</th>\n",
              "      <td>female</td>\n",
              "      <td>I lay my life before you/and i'm not getting u...</td>\n",
              "    </tr>\n",
              "    <tr>\n",
              "      <th>39998</th>\n",
              "      <td>female</td>\n",
              "      <td>I lay my life before you/and i'm not getting u...</td>\n",
              "    </tr>\n",
              "    <tr>\n",
              "      <th>39999</th>\n",
              "      <td>female</td>\n",
              "      <td>I lay my life before you/and i'm not getting u...</td>\n",
              "    </tr>\n",
              "  </tbody>\n",
              "</table>\n",
              "<p>40000 rows × 2 columns</p>\n",
              "</div>"
            ],
            "text/plain": [
              "       gender                                               text\n",
              "0        male  HEYA all. I'm in Spring Day, and the practices...\n",
              "1        male  HEYA all. I'm in Spring Day, and the practices...\n",
              "2        male  HEYA all. I'm in Spring Day, and the practices...\n",
              "3        male  HEYA all. I'm in Spring Day, and the practices...\n",
              "4        male  HEYA all. I'm in Spring Day, and the practices...\n",
              "...       ...                                                ...\n",
              "39995  female  I lay my life before you/and i'm not getting u...\n",
              "39996  female  I lay my life before you/and i'm not getting u...\n",
              "39997  female  I lay my life before you/and i'm not getting u...\n",
              "39998  female  I lay my life before you/and i'm not getting u...\n",
              "39999  female  I lay my life before you/and i'm not getting u...\n",
              "\n",
              "[40000 rows x 2 columns]"
            ]
          },
          "metadata": {
            "tags": []
          },
          "execution_count": 118
        }
      ]
    },
    {
      "cell_type": "code",
      "metadata": {
        "colab": {
          "base_uri": "https://localhost:8080/",
          "height": 35
        },
        "id": "PuZkt9SC_CqP",
        "outputId": "f5b99644-d316-407f-d4f0-bcc802756639"
      },
      "source": [
        "df_gen.iloc[0]['text'][:100]"
      ],
      "execution_count": null,
      "outputs": [
        {
          "output_type": "execute_result",
          "data": {
            "application/vnd.google.colaboratory.intrinsic+json": {
              "type": "string"
            },
            "text/plain": [
              "\" HEYA all. I'm in Spring Day, and the practices were yesterday...well, one of them.  You should hear\""
            ]
          },
          "metadata": {
            "tags": []
          },
          "execution_count": 115
        }
      ]
    },
    {
      "cell_type": "code",
      "metadata": {
        "id": "fa1EkYTVBDif"
      },
      "source": [
        "df_gen['text'] = df_gen['text'].apply(lambda x: x.strip())"
      ],
      "execution_count": null,
      "outputs": []
    },
    {
      "cell_type": "code",
      "metadata": {
        "id": "Y9vxhS91_FQW"
      },
      "source": [
        "df_gen.to_csv(\"/content/drive/MyDrive/CS 6120 - Final Project/blog_gen.csv\", index=False)"
      ],
      "execution_count": null,
      "outputs": []
    },
    {
      "cell_type": "code",
      "metadata": {
        "id": "3qYIch1W_ddC",
        "colab": {
          "base_uri": "https://localhost:8080/",
          "height": 66,
          "referenced_widgets": [
            "f157ba79a5784cb38b046b717fb17de5",
            "1ba77ba66a2b432e881b0f6508b38121",
            "943a3bf137f44790ae8462a612f83d58",
            "af7547c2a44a4539abe2c327fcc0ccfd",
            "9ed26e6e42914d77a671cabc8ccf36c3",
            "7ba946ea4793410c8b4879dad7a14581",
            "9b31d5856d6e45c48bcfcd493de06b97",
            "a0fb9c8205ab46b2b52c35d7024af1a6"
          ]
        },
        "outputId": "8a639962-4b7d-4648-9559-b07776435b82"
      },
      "source": [
        "from tqdm.notebook import tqdm\n",
        "df_gen_naive = {'gender': [], 'text': []}\n",
        "n_gen = 4000\n",
        "df_male = df[df['gender'] == 'male'].sample(n=int(n_gen/2))\n",
        "df_female = df[df['gender'] == 'female'].sample(n=int(n_gen/2))\n",
        "df_sub = pd.concat([df_male, df_female])\n",
        "for row in tqdm(df_sub[['gender', 'text']].itertuples(), total=len(df_male) + len(df_female)):\n",
        "  input_sentence = row.text\n",
        "  sample_inpud_ids = tokenizer.encode(input_sentence, truncation=True, max_length=32, return_tensors='pt').cuda()\n",
        "  try:\n",
        "    sample_output = model.generate(\n",
        "        sample_inpud_ids, \n",
        "        do_sample=True,\n",
        "        max_length=128, \n",
        "        top_p=0.9,\n",
        "        top_k=50,\n",
        "        no_repeat_ngram_size=3,\n",
        "        num_return_sequences=10\n",
        "    )\n",
        "  except:\n",
        "    print('Something happens. Pass.')\n",
        "  for s in sample_output:\n",
        "    text = tokenizer.decode(s, skip_special_tokens=True)\n",
        "    df_gen_naive['text'].append(text)\n",
        "    df_gen_naive['gender'].append(row.gender)"
      ],
      "execution_count": null,
      "outputs": [
        {
          "output_type": "display_data",
          "data": {
            "application/vnd.jupyter.widget-view+json": {
              "model_id": "f157ba79a5784cb38b046b717fb17de5",
              "version_minor": 0,
              "version_major": 2
            },
            "text/plain": [
              "HBox(children=(FloatProgress(value=0.0, max=4000.0), HTML(value='')))"
            ]
          },
          "metadata": {
            "tags": []
          }
        },
        {
          "output_type": "stream",
          "text": [
            "\n"
          ],
          "name": "stdout"
        }
      ]
    },
    {
      "cell_type": "code",
      "metadata": {
        "id": "fC59oOdlYONV"
      },
      "source": [
        "df_gen_naive = pd.DataFrame(df_gen_naive)\n",
        "df_gen_naive['text'] = df_gen_naive['text'].apply(lambda x: x.strip())"
      ],
      "execution_count": null,
      "outputs": []
    },
    {
      "cell_type": "code",
      "metadata": {
        "colab": {
          "base_uri": "https://localhost:8080/",
          "height": 402
        },
        "id": "0UURsTriY3cz",
        "outputId": "53b36d9a-aeea-4492-aa38-5eba970f3b49"
      },
      "source": [
        "df_gen_naive"
      ],
      "execution_count": null,
      "outputs": [
        {
          "output_type": "execute_result",
          "data": {
            "text/html": [
              "<div>\n",
              "<style scoped>\n",
              "    .dataframe tbody tr th:only-of-type {\n",
              "        vertical-align: middle;\n",
              "    }\n",
              "\n",
              "    .dataframe tbody tr th {\n",
              "        vertical-align: top;\n",
              "    }\n",
              "\n",
              "    .dataframe thead th {\n",
              "        text-align: right;\n",
              "    }\n",
              "</style>\n",
              "<table border=\"1\" class=\"dataframe\">\n",
              "  <thead>\n",
              "    <tr style=\"text-align: right;\">\n",
              "      <th></th>\n",
              "      <th>gender</th>\n",
              "      <th>text</th>\n",
              "    </tr>\n",
              "  </thead>\n",
              "  <tbody>\n",
              "    <tr>\n",
              "      <th>0</th>\n",
              "      <td>male</td>\n",
              "      <td>Me Am Ben. I spend many hours a day sitting st...</td>\n",
              "    </tr>\n",
              "    <tr>\n",
              "      <th>1</th>\n",
              "      <td>male</td>\n",
              "      <td>Me Am Ben. I spend many hours a day sitting st...</td>\n",
              "    </tr>\n",
              "    <tr>\n",
              "      <th>2</th>\n",
              "      <td>male</td>\n",
              "      <td>Me Am Ben. I spend many hours a day sitting st...</td>\n",
              "    </tr>\n",
              "    <tr>\n",
              "      <th>3</th>\n",
              "      <td>male</td>\n",
              "      <td>Me Am Ben. I spend many hours a day sitting st...</td>\n",
              "    </tr>\n",
              "    <tr>\n",
              "      <th>4</th>\n",
              "      <td>male</td>\n",
              "      <td>Me Am Ben. I spend many hours a day sitting st...</td>\n",
              "    </tr>\n",
              "    <tr>\n",
              "      <th>...</th>\n",
              "      <td>...</td>\n",
              "      <td>...</td>\n",
              "    </tr>\n",
              "    <tr>\n",
              "      <th>39995</th>\n",
              "      <td>female</td>\n",
              "      <td>well i woke up and talked to CAG for a while t...</td>\n",
              "    </tr>\n",
              "    <tr>\n",
              "      <th>39996</th>\n",
              "      <td>female</td>\n",
              "      <td>well i woke up and talked to CAG for a while t...</td>\n",
              "    </tr>\n",
              "    <tr>\n",
              "      <th>39997</th>\n",
              "      <td>female</td>\n",
              "      <td>well i woke up and talked to CAG for a while t...</td>\n",
              "    </tr>\n",
              "    <tr>\n",
              "      <th>39998</th>\n",
              "      <td>female</td>\n",
              "      <td>well i woke up and talked to CAG for a while t...</td>\n",
              "    </tr>\n",
              "    <tr>\n",
              "      <th>39999</th>\n",
              "      <td>female</td>\n",
              "      <td>well i woke up and talked to CAG for a while t...</td>\n",
              "    </tr>\n",
              "  </tbody>\n",
              "</table>\n",
              "<p>40000 rows × 2 columns</p>\n",
              "</div>"
            ],
            "text/plain": [
              "       gender                                               text\n",
              "0        male  Me Am Ben. I spend many hours a day sitting st...\n",
              "1        male  Me Am Ben. I spend many hours a day sitting st...\n",
              "2        male  Me Am Ben. I spend many hours a day sitting st...\n",
              "3        male  Me Am Ben. I spend many hours a day sitting st...\n",
              "4        male  Me Am Ben. I spend many hours a day sitting st...\n",
              "...       ...                                                ...\n",
              "39995  female  well i woke up and talked to CAG for a while t...\n",
              "39996  female  well i woke up and talked to CAG for a while t...\n",
              "39997  female  well i woke up and talked to CAG for a while t...\n",
              "39998  female  well i woke up and talked to CAG for a while t...\n",
              "39999  female  well i woke up and talked to CAG for a while t...\n",
              "\n",
              "[40000 rows x 2 columns]"
            ]
          },
          "metadata": {
            "tags": []
          },
          "execution_count": 27
        }
      ]
    },
    {
      "cell_type": "code",
      "metadata": {
        "id": "DmCEsBwlodb9"
      },
      "source": [
        "df_gen_naive.to_csv(\"/content/drive/MyDrive/CS 6120 - Final Project/blog_gen_naive.csv\", index=False)"
      ],
      "execution_count": null,
      "outputs": []
    },
    {
      "cell_type": "code",
      "metadata": {
        "id": "l5-DLPHFaEj4"
      },
      "source": [
        ""
      ],
      "execution_count": null,
      "outputs": []
    }
  ]
}